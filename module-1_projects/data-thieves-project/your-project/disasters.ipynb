{
 "cells": [
  {
   "cell_type": "markdown",
   "metadata": {},
   "source": [
    "# Natural Events and climate change"
   ]
  },
  {
   "cell_type": "markdown",
   "metadata": {},
   "source": [
    "In this project we will extract data from two sources:\n",
    "\n",
    "1. EONET API v.2.1\n",
    "\n",
    "2. Global carbon Atlas http://globalcarbonatlas.org/en/CO2-emissions"
   ]
  },
  {
   "cell_type": "markdown",
   "metadata": {},
   "source": [
    "## Import Libraries"
   ]
  },
  {
   "cell_type": "code",
   "execution_count": 1,
   "metadata": {},
   "outputs": [],
   "source": [
    "\n",
    "import pandas as pd\n",
    "import numpy as np\n",
    "import re\n",
    "import math\n",
    "import requests\n",
    "import json\n",
    "import matplotlib\n",
    "%matplotlib inline\n",
    "import seaborn as sns\n",
    "from datetime import datetime"
   ]
  },
  {
   "cell_type": "markdown",
   "metadata": {},
   "source": [
    "The natural events in the EONET's API are divided in two primarily groups according with their status:\n",
    "\n",
    "* status = open means the natural event has not ended.\n",
    "\n",
    "* status = close means the natural event has finished. When this happen we will have as well an aditional field labeled as closed."
   ]
  },
  {
   "cell_type": "markdown",
   "metadata": {},
   "source": [
    "## Extracting data from the EONET's API"
   ]
  },
  {
   "cell_type": "code",
   "execution_count": 18,
   "metadata": {},
   "outputs": [],
   "source": [
    "def extract_cat(lista):\n",
    "    return lista[0][\"title\"]\n",
    "\n",
    "def extract_date(lista):\n",
    "    return lista[0][\"date\"]\n",
    "\n",
    "def extract_typ(lista):\n",
    "    return lista[0][\"type\"]\n",
    "    \n",
    "def extract_coor(lista):\n",
    "    return lista[0][\"coordinates\"]\n",
    "\n",
    "def extract_geom(lista):\n",
    "    del lista[0][\"date\"]\n",
    "    return lista[0]\n",
    "    \n",
    "base = \"https://eonet.sci.gsfc.nasa.gov/api/v2.1/events?status=\" \n",
    "\n",
    "def get_events(st):\n",
    "    \n",
    "    \"\"\"\n",
    "    Arguments: \"open\" or \"closed\"\n",
    "    Returns a the data set of the events with status \"st\" \n",
    "    which happened since 1980-01-10 until teh current date.\n",
    "    \n",
    "    \"\"\"\n",
    "    url = base + f\"{st}\"\n",
    "    result = requests.get(url)\n",
    "    \n",
    "    df_0 = pd.DataFrame(result.json()[\"events\"], columns = [\"id\", \"title\", \"categories\", \"description\", \"sources\", \"geometries\", \"closed\"])\n",
    "    df_0.categories = df_0.categories.apply(extract_cat) # Extract category from the original dictionary\n",
    "    df_0[\"date\"] = df_0.geometries.apply(extract_date)\n",
    "    df_0[\"geometries\"] = df_0.geometries.apply(extract_geom)\n",
    "    df_0 = df_0.drop(columns = [\"sources\"])\n",
    "    return df_0[['id', 'title', 'categories', 'description', 'date', 'closed','geometries']]\n",
    "\n",
    "\n"
   ]
  },
  {
   "cell_type": "code",
   "execution_count": 19,
   "metadata": {},
   "outputs": [],
   "source": [
    "df_op = get_events(\"open\")\n",
    "df_cl = get_events(\"closed\")"
   ]
  },
  {
   "cell_type": "markdown",
   "metadata": {},
   "source": [
    "Let us explore our data frames:"
   ]
  },
  {
   "cell_type": "code",
   "execution_count": 20,
   "metadata": {},
   "outputs": [
    {
     "data": {
      "text/html": [
       "<div>\n",
       "<style scoped>\n",
       "    .dataframe tbody tr th:only-of-type {\n",
       "        vertical-align: middle;\n",
       "    }\n",
       "\n",
       "    .dataframe tbody tr th {\n",
       "        vertical-align: top;\n",
       "    }\n",
       "\n",
       "    .dataframe thead th {\n",
       "        text-align: right;\n",
       "    }\n",
       "</style>\n",
       "<table border=\"1\" class=\"dataframe\">\n",
       "  <thead>\n",
       "    <tr style=\"text-align: right;\">\n",
       "      <th></th>\n",
       "      <th>id</th>\n",
       "      <th>title</th>\n",
       "      <th>categories</th>\n",
       "      <th>description</th>\n",
       "      <th>date</th>\n",
       "      <th>closed</th>\n",
       "      <th>geometries</th>\n",
       "    </tr>\n",
       "  </thead>\n",
       "  <tbody>\n",
       "    <tr>\n",
       "      <th>0</th>\n",
       "      <td>EONET_4488</td>\n",
       "      <td>Wildfires - Riverside County  (Hill Fire), Cal...</td>\n",
       "      <td>Wildfires</td>\n",
       "      <td></td>\n",
       "      <td>2019-10-30T16:02:00Z</td>\n",
       "      <td>NaN</td>\n",
       "      <td>{'type': 'Point', 'coordinates': [-117.46421, ...</td>\n",
       "    </tr>\n",
       "    <tr>\n",
       "      <th>1</th>\n",
       "      <td>EONET_4487</td>\n",
       "      <td>Wildfires - Ventura County (Easy Fire), Califo...</td>\n",
       "      <td>Wildfires</td>\n",
       "      <td></td>\n",
       "      <td>2019-10-30T13:23:00Z</td>\n",
       "      <td>NaN</td>\n",
       "      <td>{'type': 'Point', 'coordinates': [-118.8304898...</td>\n",
       "    </tr>\n",
       "    <tr>\n",
       "      <th>2</th>\n",
       "      <td>EONET_4485</td>\n",
       "      <td>Tropical Cyclone Maha</td>\n",
       "      <td>Severe Storms</td>\n",
       "      <td></td>\n",
       "      <td>2019-10-30T08:46:01Z</td>\n",
       "      <td>NaN</td>\n",
       "      <td>{'type': 'Point', 'coordinates': [74.8, 8.8]}</td>\n",
       "    </tr>\n",
       "    <tr>\n",
       "      <th>3</th>\n",
       "      <td>EONET_4484</td>\n",
       "      <td>Tropical Storm Matmo</td>\n",
       "      <td>Severe Storms</td>\n",
       "      <td></td>\n",
       "      <td>2019-10-30T00:00:00Z</td>\n",
       "      <td>NaN</td>\n",
       "      <td>{'type': 'Point', 'coordinates': [111.9, 13.0]}</td>\n",
       "    </tr>\n",
       "    <tr>\n",
       "      <th>4</th>\n",
       "      <td>EONET_4486</td>\n",
       "      <td>Subtropical Storm Rebekah</td>\n",
       "      <td>Severe Storms</td>\n",
       "      <td></td>\n",
       "      <td>2019-10-30T00:00:00Z</td>\n",
       "      <td>NaN</td>\n",
       "      <td>{'type': 'Point', 'coordinates': [-40.7, 38.3]}</td>\n",
       "    </tr>\n",
       "  </tbody>\n",
       "</table>\n",
       "</div>"
      ],
      "text/plain": [
       "           id                                              title  \\\n",
       "0  EONET_4488  Wildfires - Riverside County  (Hill Fire), Cal...   \n",
       "1  EONET_4487  Wildfires - Ventura County (Easy Fire), Califo...   \n",
       "2  EONET_4485                              Tropical Cyclone Maha   \n",
       "3  EONET_4484                               Tropical Storm Matmo   \n",
       "4  EONET_4486                          Subtropical Storm Rebekah   \n",
       "\n",
       "      categories description                  date  closed  \\\n",
       "0      Wildfires              2019-10-30T16:02:00Z     NaN   \n",
       "1      Wildfires              2019-10-30T13:23:00Z     NaN   \n",
       "2  Severe Storms              2019-10-30T08:46:01Z     NaN   \n",
       "3  Severe Storms              2019-10-30T00:00:00Z     NaN   \n",
       "4  Severe Storms              2019-10-30T00:00:00Z     NaN   \n",
       "\n",
       "                                          geometries  \n",
       "0  {'type': 'Point', 'coordinates': [-117.46421, ...  \n",
       "1  {'type': 'Point', 'coordinates': [-118.8304898...  \n",
       "2      {'type': 'Point', 'coordinates': [74.8, 8.8]}  \n",
       "3    {'type': 'Point', 'coordinates': [111.9, 13.0]}  \n",
       "4    {'type': 'Point', 'coordinates': [-40.7, 38.3]}  "
      ]
     },
     "execution_count": 20,
     "metadata": {},
     "output_type": "execute_result"
    }
   ],
   "source": [
    "df_op.head()"
   ]
  },
  {
   "cell_type": "code",
   "execution_count": 21,
   "metadata": {},
   "outputs": [
    {
     "data": {
      "text/html": [
       "<div>\n",
       "<style scoped>\n",
       "    .dataframe tbody tr th:only-of-type {\n",
       "        vertical-align: middle;\n",
       "    }\n",
       "\n",
       "    .dataframe tbody tr th {\n",
       "        vertical-align: top;\n",
       "    }\n",
       "\n",
       "    .dataframe thead th {\n",
       "        text-align: right;\n",
       "    }\n",
       "</style>\n",
       "<table border=\"1\" class=\"dataframe\">\n",
       "  <thead>\n",
       "    <tr style=\"text-align: right;\">\n",
       "      <th></th>\n",
       "      <th>id</th>\n",
       "      <th>title</th>\n",
       "      <th>categories</th>\n",
       "      <th>description</th>\n",
       "      <th>date</th>\n",
       "      <th>closed</th>\n",
       "      <th>geometries</th>\n",
       "    </tr>\n",
       "  </thead>\n",
       "  <tbody>\n",
       "    <tr>\n",
       "      <th>0</th>\n",
       "      <td>EONET_4464</td>\n",
       "      <td>Typhoon Bualoi</td>\n",
       "      <td>Severe Storms</td>\n",
       "      <td></td>\n",
       "      <td>2019-10-19T00:00:00Z</td>\n",
       "      <td>2019-10-30T00:00:00Z</td>\n",
       "      <td>{'type': 'Point', 'coordinates': [155.1, 10.6]}</td>\n",
       "    </tr>\n",
       "    <tr>\n",
       "      <th>1</th>\n",
       "      <td>EONET_4463</td>\n",
       "      <td>Tropical Storm Neoguri</td>\n",
       "      <td>Severe Storms</td>\n",
       "      <td></td>\n",
       "      <td>2019-10-17T00:00:00Z</td>\n",
       "      <td>2019-10-27T00:00:00Z</td>\n",
       "      <td>{'type': 'Point', 'coordinates': [129.9, 19.6]}</td>\n",
       "    </tr>\n",
       "    <tr>\n",
       "      <th>2</th>\n",
       "      <td>EONET_4465</td>\n",
       "      <td>Tropical Storm Nestor</td>\n",
       "      <td>Severe Storms</td>\n",
       "      <td></td>\n",
       "      <td>2019-10-17T00:00:00Z</td>\n",
       "      <td>2019-10-20T00:00:00Z</td>\n",
       "      <td>{'type': 'Point', 'coordinates': [-95.2, 22.9]}</td>\n",
       "    </tr>\n",
       "    <tr>\n",
       "      <th>3</th>\n",
       "      <td>EONET_4459</td>\n",
       "      <td>Tropical Cyclone Ema</td>\n",
       "      <td>Severe Storms</td>\n",
       "      <td></td>\n",
       "      <td>2019-10-12T00:00:00Z</td>\n",
       "      <td>2019-10-19T00:00:00Z</td>\n",
       "      <td>{'type': 'Point', 'coordinates': [-163.3, 19.6]}</td>\n",
       "    </tr>\n",
       "    <tr>\n",
       "      <th>4</th>\n",
       "      <td>EONET_4460</td>\n",
       "      <td>Tropical Storm Melissa</td>\n",
       "      <td>Severe Storms</td>\n",
       "      <td></td>\n",
       "      <td>2019-10-11T00:00:00Z</td>\n",
       "      <td>2019-10-14T00:00:00Z</td>\n",
       "      <td>{'type': 'Point', 'coordinates': [-69.5, 38.2]}</td>\n",
       "    </tr>\n",
       "  </tbody>\n",
       "</table>\n",
       "</div>"
      ],
      "text/plain": [
       "           id                   title     categories description  \\\n",
       "0  EONET_4464          Typhoon Bualoi  Severe Storms               \n",
       "1  EONET_4463  Tropical Storm Neoguri  Severe Storms               \n",
       "2  EONET_4465   Tropical Storm Nestor  Severe Storms               \n",
       "3  EONET_4459    Tropical Cyclone Ema  Severe Storms               \n",
       "4  EONET_4460  Tropical Storm Melissa  Severe Storms               \n",
       "\n",
       "                   date                closed  \\\n",
       "0  2019-10-19T00:00:00Z  2019-10-30T00:00:00Z   \n",
       "1  2019-10-17T00:00:00Z  2019-10-27T00:00:00Z   \n",
       "2  2019-10-17T00:00:00Z  2019-10-20T00:00:00Z   \n",
       "3  2019-10-12T00:00:00Z  2019-10-19T00:00:00Z   \n",
       "4  2019-10-11T00:00:00Z  2019-10-14T00:00:00Z   \n",
       "\n",
       "                                         geometries  \n",
       "0   {'type': 'Point', 'coordinates': [155.1, 10.6]}  \n",
       "1   {'type': 'Point', 'coordinates': [129.9, 19.6]}  \n",
       "2   {'type': 'Point', 'coordinates': [-95.2, 22.9]}  \n",
       "3  {'type': 'Point', 'coordinates': [-163.3, 19.6]}  \n",
       "4   {'type': 'Point', 'coordinates': [-69.5, 38.2]}  "
      ]
     },
     "execution_count": 21,
     "metadata": {},
     "output_type": "execute_result"
    }
   ],
   "source": [
    "df_cl.head()"
   ]
  },
  {
   "cell_type": "code",
   "execution_count": 22,
   "metadata": {},
   "outputs": [
    {
     "data": {
      "text/plain": [
       "id              object\n",
       "title           object\n",
       "categories      object\n",
       "description     object\n",
       "date            object\n",
       "closed         float64\n",
       "geometries      object\n",
       "dtype: object"
      ]
     },
     "execution_count": 22,
     "metadata": {},
     "output_type": "execute_result"
    }
   ],
   "source": [
    "df_op.dtypes"
   ]
  },
  {
   "cell_type": "markdown",
   "metadata": {},
   "source": [
    "Now we want to concatenate both dataframes so we have all the information of events closed and open:"
   ]
  },
  {
   "cell_type": "code",
   "execution_count": 84,
   "metadata": {},
   "outputs": [
    {
     "data": {
      "text/plain": [
       "id             object\n",
       "title          object\n",
       "categories     object\n",
       "description    object\n",
       "date           object\n",
       "closed         object\n",
       "geometries     object\n",
       "dtype: object"
      ]
     },
     "execution_count": 84,
     "metadata": {},
     "output_type": "execute_result"
    }
   ],
   "source": [
    "df_ev = pd.concat([df_op, df_cl], ignore_index=True).sort_values(\"date\", ascending = False).reset_index(drop=True)\n",
    "\n",
    "df_ev.dtypes"
   ]
  },
  {
   "cell_type": "markdown",
   "metadata": {},
   "source": [
    "The columns \"date\" and \"closed\" have no suitable data type. We should correct this field. According with the documentation, most of the fields have Universal Time (UTC) as indicated by the letter Z. with this in mind, we will reformat these fields to YYYY-MM-DD:"
   ]
  },
  {
   "cell_type": "code",
   "execution_count": 85,
   "metadata": {},
   "outputs": [],
   "source": [
    "df_ev[\"date\"]= pd.to_datetime(df_ev['date'],infer_datetime_format = True).dt.date\n",
    "df_ev[\"closed\"]= pd.to_datetime(df_ev['closed'],infer_datetime_format = True).dt.date"
   ]
  },
  {
   "cell_type": "code",
   "execution_count": 86,
   "metadata": {},
   "outputs": [],
   "source": [
    "df_ev[\"date\"]= pd.to_datetime(df_ev['date'],infer_datetime_format = True)\n",
    "df_ev[\"closed\"]= pd.to_datetime(df_ev['closed'],infer_datetime_format = True)"
   ]
  },
  {
   "cell_type": "code",
   "execution_count": 87,
   "metadata": {},
   "outputs": [
    {
     "data": {
      "text/plain": [
       "id                     object\n",
       "title                  object\n",
       "categories             object\n",
       "description            object\n",
       "date           datetime64[ns]\n",
       "closed         datetime64[ns]\n",
       "geometries             object\n",
       "dtype: object"
      ]
     },
     "execution_count": 87,
     "metadata": {},
     "output_type": "execute_result"
    }
   ],
   "source": [
    "df_ev.dtypes"
   ]
  },
  {
   "cell_type": "markdown",
   "metadata": {},
   "source": [
    "Now we have a look to this dataframe:"
   ]
  },
  {
   "cell_type": "code",
   "execution_count": 622,
   "metadata": {},
   "outputs": [
    {
     "data": {
      "text/html": [
       "<div>\n",
       "<style scoped>\n",
       "    .dataframe tbody tr th:only-of-type {\n",
       "        vertical-align: middle;\n",
       "    }\n",
       "\n",
       "    .dataframe tbody tr th {\n",
       "        vertical-align: top;\n",
       "    }\n",
       "\n",
       "    .dataframe thead th {\n",
       "        text-align: right;\n",
       "    }\n",
       "</style>\n",
       "<table border=\"1\" class=\"dataframe\">\n",
       "  <thead>\n",
       "    <tr style=\"text-align: right;\">\n",
       "      <th></th>\n",
       "      <th>id</th>\n",
       "      <th>title</th>\n",
       "      <th>categories</th>\n",
       "      <th>date</th>\n",
       "      <th>closed</th>\n",
       "      <th>date_closed</th>\n",
       "      <th>geometries</th>\n",
       "      <th>year</th>\n",
       "    </tr>\n",
       "  </thead>\n",
       "  <tbody>\n",
       "    <tr>\n",
       "      <th>0</th>\n",
       "      <td>EONET_4488</td>\n",
       "      <td>Wildfires - Riverside County  (Hill Fire), Cal...</td>\n",
       "      <td>Wildfires</td>\n",
       "      <td>2019-10-30</td>\n",
       "      <td>False</td>\n",
       "      <td>NaT</td>\n",
       "      <td>{'type': 'Point', 'coordinates': [-117.46421, ...</td>\n",
       "      <td>2019</td>\n",
       "    </tr>\n",
       "    <tr>\n",
       "      <th>1</th>\n",
       "      <td>EONET_4487</td>\n",
       "      <td>Wildfires - Ventura County (Easy Fire), Califo...</td>\n",
       "      <td>Wildfires</td>\n",
       "      <td>2019-10-30</td>\n",
       "      <td>False</td>\n",
       "      <td>NaT</td>\n",
       "      <td>{'type': 'Point', 'coordinates': [-118.8304898...</td>\n",
       "      <td>2019</td>\n",
       "    </tr>\n",
       "    <tr>\n",
       "      <th>2</th>\n",
       "      <td>EONET_4485</td>\n",
       "      <td>Tropical Cyclone Maha</td>\n",
       "      <td>Severe Storms</td>\n",
       "      <td>2019-10-30</td>\n",
       "      <td>False</td>\n",
       "      <td>NaT</td>\n",
       "      <td>{'type': 'Point', 'coordinates': [74.8, 8.8]}</td>\n",
       "      <td>2019</td>\n",
       "    </tr>\n",
       "    <tr>\n",
       "      <th>3</th>\n",
       "      <td>EONET_4484</td>\n",
       "      <td>Tropical Storm Matmo</td>\n",
       "      <td>Severe Storms</td>\n",
       "      <td>2019-10-30</td>\n",
       "      <td>False</td>\n",
       "      <td>NaT</td>\n",
       "      <td>{'type': 'Point', 'coordinates': [111.9, 13.0]}</td>\n",
       "      <td>2019</td>\n",
       "    </tr>\n",
       "    <tr>\n",
       "      <th>4</th>\n",
       "      <td>EONET_4486</td>\n",
       "      <td>Subtropical Storm Rebekah</td>\n",
       "      <td>Severe Storms</td>\n",
       "      <td>2019-10-30</td>\n",
       "      <td>False</td>\n",
       "      <td>NaT</td>\n",
       "      <td>{'type': 'Point', 'coordinates': [-40.7, 38.3]}</td>\n",
       "      <td>2019</td>\n",
       "    </tr>\n",
       "    <tr>\n",
       "      <th>5</th>\n",
       "      <td>EONET_4482</td>\n",
       "      <td>Wildfires - Port Macquarie (Crestwood Drive Fi...</td>\n",
       "      <td>Wildfires</td>\n",
       "      <td>2019-10-28</td>\n",
       "      <td>False</td>\n",
       "      <td>NaT</td>\n",
       "      <td>{'type': 'Point', 'coordinates': [152.18798676...</td>\n",
       "      <td>2019</td>\n",
       "    </tr>\n",
       "    <tr>\n",
       "      <th>6</th>\n",
       "      <td>EONET_4483</td>\n",
       "      <td>Wildfires - La Ligua (La Patagua Fire), Chile</td>\n",
       "      <td>Wildfires</td>\n",
       "      <td>2019-10-28</td>\n",
       "      <td>False</td>\n",
       "      <td>NaT</td>\n",
       "      <td>{'type': 'Point', 'coordinates': [-71.23004, -...</td>\n",
       "      <td>2019</td>\n",
       "    </tr>\n",
       "    <tr>\n",
       "      <th>7</th>\n",
       "      <td>EONET_4481</td>\n",
       "      <td>Wildfires - Los Angeles County (Getty Fire), C...</td>\n",
       "      <td>Wildfires</td>\n",
       "      <td>2019-10-28</td>\n",
       "      <td>False</td>\n",
       "      <td>NaT</td>\n",
       "      <td>{'type': 'Point', 'coordinates': [-118.4809553...</td>\n",
       "      <td>2019</td>\n",
       "    </tr>\n",
       "    <tr>\n",
       "      <th>8</th>\n",
       "      <td>EONET_4478</td>\n",
       "      <td>Wildfires - San Diego County (Miller Fire), Ca...</td>\n",
       "      <td>Wildfires</td>\n",
       "      <td>2019-10-25</td>\n",
       "      <td>False</td>\n",
       "      <td>NaT</td>\n",
       "      <td>{'type': 'Point', 'coordinates': [-117.03197, ...</td>\n",
       "      <td>2019</td>\n",
       "    </tr>\n",
       "    <tr>\n",
       "      <th>9</th>\n",
       "      <td>EONET_4477</td>\n",
       "      <td>Wildfires - San Diego County (Sawday Fire), Ca...</td>\n",
       "      <td>Wildfires</td>\n",
       "      <td>2019-10-25</td>\n",
       "      <td>False</td>\n",
       "      <td>NaT</td>\n",
       "      <td>{'type': 'Point', 'coordinates': [-116.74528, ...</td>\n",
       "      <td>2019</td>\n",
       "    </tr>\n",
       "  </tbody>\n",
       "</table>\n",
       "</div>"
      ],
      "text/plain": [
       "           id                                              title  \\\n",
       "0  EONET_4488  Wildfires - Riverside County  (Hill Fire), Cal...   \n",
       "1  EONET_4487  Wildfires - Ventura County (Easy Fire), Califo...   \n",
       "2  EONET_4485                              Tropical Cyclone Maha   \n",
       "3  EONET_4484                               Tropical Storm Matmo   \n",
       "4  EONET_4486                          Subtropical Storm Rebekah   \n",
       "5  EONET_4482  Wildfires - Port Macquarie (Crestwood Drive Fi...   \n",
       "6  EONET_4483      Wildfires - La Ligua (La Patagua Fire), Chile   \n",
       "7  EONET_4481  Wildfires - Los Angeles County (Getty Fire), C...   \n",
       "8  EONET_4478  Wildfires - San Diego County (Miller Fire), Ca...   \n",
       "9  EONET_4477  Wildfires - San Diego County (Sawday Fire), Ca...   \n",
       "\n",
       "      categories       date  closed date_closed  \\\n",
       "0      Wildfires 2019-10-30   False         NaT   \n",
       "1      Wildfires 2019-10-30   False         NaT   \n",
       "2  Severe Storms 2019-10-30   False         NaT   \n",
       "3  Severe Storms 2019-10-30   False         NaT   \n",
       "4  Severe Storms 2019-10-30   False         NaT   \n",
       "5      Wildfires 2019-10-28   False         NaT   \n",
       "6      Wildfires 2019-10-28   False         NaT   \n",
       "7      Wildfires 2019-10-28   False         NaT   \n",
       "8      Wildfires 2019-10-25   False         NaT   \n",
       "9      Wildfires 2019-10-25   False         NaT   \n",
       "\n",
       "                                          geometries  year  \n",
       "0  {'type': 'Point', 'coordinates': [-117.46421, ...  2019  \n",
       "1  {'type': 'Point', 'coordinates': [-118.8304898...  2019  \n",
       "2      {'type': 'Point', 'coordinates': [74.8, 8.8]}  2019  \n",
       "3    {'type': 'Point', 'coordinates': [111.9, 13.0]}  2019  \n",
       "4    {'type': 'Point', 'coordinates': [-40.7, 38.3]}  2019  \n",
       "5  {'type': 'Point', 'coordinates': [152.18798676...  2019  \n",
       "6  {'type': 'Point', 'coordinates': [-71.23004, -...  2019  \n",
       "7  {'type': 'Point', 'coordinates': [-118.4809553...  2019  \n",
       "8  {'type': 'Point', 'coordinates': [-117.03197, ...  2019  \n",
       "9  {'type': 'Point', 'coordinates': [-116.74528, ...  2019  "
      ]
     },
     "execution_count": 622,
     "metadata": {},
     "output_type": "execute_result"
    }
   ],
   "source": [
    "df_ev.head(10)"
   ]
  },
  {
   "cell_type": "markdown",
   "metadata": {},
   "source": [
    "We have very little information in the \"description\" field (< 4%). Also, in order to do our analysis, this column in not relevant:"
   ]
  },
  {
   "cell_type": "code",
   "execution_count": 89,
   "metadata": {},
   "outputs": [
    {
     "data": {
      "text/plain": [
       "0.039751838235294115"
      ]
     },
     "execution_count": 89,
     "metadata": {},
     "output_type": "execute_result"
    }
   ],
   "source": [
    "len(df_ev[df_ev[\"description\"] != \"\"]) / len(df_ev)"
   ]
  },
  {
   "cell_type": "code",
   "execution_count": 90,
   "metadata": {},
   "outputs": [],
   "source": [
    "df_ev = df_ev.drop(columns = \"description\")"
   ]
  },
  {
   "cell_type": "markdown",
   "metadata": {},
   "source": [
    "We now that the column \"closed\" only contains a date if the event is over. We will condense this information in an extra column with boolean values:"
   ]
  },
  {
   "cell_type": "code",
   "execution_count": 91,
   "metadata": {},
   "outputs": [],
   "source": [
    "#Create a new column containing the date of end of the event\n",
    "\n",
    "df_ev[\"date_closed\"] = df_ev[\"closed\"]\n",
    "\n",
    "# Replace the column closed by a boolean column\n",
    "\n",
    "df_ev[\"closed\"] = (df_ev[\"date_closed\"].notna())"
   ]
  },
  {
   "cell_type": "code",
   "execution_count": 92,
   "metadata": {},
   "outputs": [],
   "source": [
    "#Rearranging the columns\n",
    "\n",
    "df_ev = df_ev[['id', 'title', 'categories', 'date', 'closed', 'date_closed', 'geometries']]"
   ]
  },
  {
   "cell_type": "code",
   "execution_count": 623,
   "metadata": {},
   "outputs": [
    {
     "data": {
      "text/html": [
       "<div>\n",
       "<style scoped>\n",
       "    .dataframe tbody tr th:only-of-type {\n",
       "        vertical-align: middle;\n",
       "    }\n",
       "\n",
       "    .dataframe tbody tr th {\n",
       "        vertical-align: top;\n",
       "    }\n",
       "\n",
       "    .dataframe thead th {\n",
       "        text-align: right;\n",
       "    }\n",
       "</style>\n",
       "<table border=\"1\" class=\"dataframe\">\n",
       "  <thead>\n",
       "    <tr style=\"text-align: right;\">\n",
       "      <th></th>\n",
       "      <th>id</th>\n",
       "      <th>title</th>\n",
       "      <th>categories</th>\n",
       "      <th>date</th>\n",
       "      <th>closed</th>\n",
       "      <th>date_closed</th>\n",
       "      <th>geometries</th>\n",
       "      <th>year</th>\n",
       "    </tr>\n",
       "  </thead>\n",
       "  <tbody>\n",
       "    <tr>\n",
       "      <th>0</th>\n",
       "      <td>EONET_4488</td>\n",
       "      <td>Wildfires - Riverside County  (Hill Fire), Cal...</td>\n",
       "      <td>Wildfires</td>\n",
       "      <td>2019-10-30</td>\n",
       "      <td>False</td>\n",
       "      <td>NaT</td>\n",
       "      <td>{'type': 'Point', 'coordinates': [-117.46421, ...</td>\n",
       "      <td>2019</td>\n",
       "    </tr>\n",
       "    <tr>\n",
       "      <th>1</th>\n",
       "      <td>EONET_4487</td>\n",
       "      <td>Wildfires - Ventura County (Easy Fire), Califo...</td>\n",
       "      <td>Wildfires</td>\n",
       "      <td>2019-10-30</td>\n",
       "      <td>False</td>\n",
       "      <td>NaT</td>\n",
       "      <td>{'type': 'Point', 'coordinates': [-118.8304898...</td>\n",
       "      <td>2019</td>\n",
       "    </tr>\n",
       "    <tr>\n",
       "      <th>2</th>\n",
       "      <td>EONET_4485</td>\n",
       "      <td>Tropical Cyclone Maha</td>\n",
       "      <td>Severe Storms</td>\n",
       "      <td>2019-10-30</td>\n",
       "      <td>False</td>\n",
       "      <td>NaT</td>\n",
       "      <td>{'type': 'Point', 'coordinates': [74.8, 8.8]}</td>\n",
       "      <td>2019</td>\n",
       "    </tr>\n",
       "    <tr>\n",
       "      <th>3</th>\n",
       "      <td>EONET_4484</td>\n",
       "      <td>Tropical Storm Matmo</td>\n",
       "      <td>Severe Storms</td>\n",
       "      <td>2019-10-30</td>\n",
       "      <td>False</td>\n",
       "      <td>NaT</td>\n",
       "      <td>{'type': 'Point', 'coordinates': [111.9, 13.0]}</td>\n",
       "      <td>2019</td>\n",
       "    </tr>\n",
       "    <tr>\n",
       "      <th>4</th>\n",
       "      <td>EONET_4486</td>\n",
       "      <td>Subtropical Storm Rebekah</td>\n",
       "      <td>Severe Storms</td>\n",
       "      <td>2019-10-30</td>\n",
       "      <td>False</td>\n",
       "      <td>NaT</td>\n",
       "      <td>{'type': 'Point', 'coordinates': [-40.7, 38.3]}</td>\n",
       "      <td>2019</td>\n",
       "    </tr>\n",
       "    <tr>\n",
       "      <th>5</th>\n",
       "      <td>EONET_4482</td>\n",
       "      <td>Wildfires - Port Macquarie (Crestwood Drive Fi...</td>\n",
       "      <td>Wildfires</td>\n",
       "      <td>2019-10-28</td>\n",
       "      <td>False</td>\n",
       "      <td>NaT</td>\n",
       "      <td>{'type': 'Point', 'coordinates': [152.18798676...</td>\n",
       "      <td>2019</td>\n",
       "    </tr>\n",
       "    <tr>\n",
       "      <th>6</th>\n",
       "      <td>EONET_4483</td>\n",
       "      <td>Wildfires - La Ligua (La Patagua Fire), Chile</td>\n",
       "      <td>Wildfires</td>\n",
       "      <td>2019-10-28</td>\n",
       "      <td>False</td>\n",
       "      <td>NaT</td>\n",
       "      <td>{'type': 'Point', 'coordinates': [-71.23004, -...</td>\n",
       "      <td>2019</td>\n",
       "    </tr>\n",
       "  </tbody>\n",
       "</table>\n",
       "</div>"
      ],
      "text/plain": [
       "           id                                              title  \\\n",
       "0  EONET_4488  Wildfires - Riverside County  (Hill Fire), Cal...   \n",
       "1  EONET_4487  Wildfires - Ventura County (Easy Fire), Califo...   \n",
       "2  EONET_4485                              Tropical Cyclone Maha   \n",
       "3  EONET_4484                               Tropical Storm Matmo   \n",
       "4  EONET_4486                          Subtropical Storm Rebekah   \n",
       "5  EONET_4482  Wildfires - Port Macquarie (Crestwood Drive Fi...   \n",
       "6  EONET_4483      Wildfires - La Ligua (La Patagua Fire), Chile   \n",
       "\n",
       "      categories       date  closed date_closed  \\\n",
       "0      Wildfires 2019-10-30   False         NaT   \n",
       "1      Wildfires 2019-10-30   False         NaT   \n",
       "2  Severe Storms 2019-10-30   False         NaT   \n",
       "3  Severe Storms 2019-10-30   False         NaT   \n",
       "4  Severe Storms 2019-10-30   False         NaT   \n",
       "5      Wildfires 2019-10-28   False         NaT   \n",
       "6      Wildfires 2019-10-28   False         NaT   \n",
       "\n",
       "                                          geometries  year  \n",
       "0  {'type': 'Point', 'coordinates': [-117.46421, ...  2019  \n",
       "1  {'type': 'Point', 'coordinates': [-118.8304898...  2019  \n",
       "2      {'type': 'Point', 'coordinates': [74.8, 8.8]}  2019  \n",
       "3    {'type': 'Point', 'coordinates': [111.9, 13.0]}  2019  \n",
       "4    {'type': 'Point', 'coordinates': [-40.7, 38.3]}  2019  \n",
       "5  {'type': 'Point', 'coordinates': [152.18798676...  2019  \n",
       "6  {'type': 'Point', 'coordinates': [-71.23004, -...  2019  "
      ]
     },
     "execution_count": 623,
     "metadata": {},
     "output_type": "execute_result"
    }
   ],
   "source": [
    "df_ev.head(7)"
   ]
  },
  {
   "cell_type": "code",
   "execution_count": 94,
   "metadata": {},
   "outputs": [
    {
     "data": {
      "text/plain": [
       "id                     object\n",
       "title                  object\n",
       "categories             object\n",
       "date           datetime64[ns]\n",
       "closed                   bool\n",
       "date_closed    datetime64[ns]\n",
       "geometries             object\n",
       "dtype: object"
      ]
     },
     "execution_count": 94,
     "metadata": {},
     "output_type": "execute_result"
    }
   ],
   "source": [
    "df_ev.dtypes"
   ]
  },
  {
   "cell_type": "markdown",
   "metadata": {},
   "source": [
    "Now we export the data in a csv file:"
   ]
  },
  {
   "cell_type": "code",
   "execution_count": 626,
   "metadata": {},
   "outputs": [],
   "source": [
    "df_ev.to_csv(\"natural_events.csv\")"
   ]
  },
  {
   "cell_type": "markdown",
   "metadata": {},
   "source": [
    "## CO2 Emissions data"
   ]
  },
  {
   "cell_type": "markdown",
   "metadata": {},
   "source": [
    "Here we will access data contained in excel files. The data is available at http://globalcarbonatlas.org/en/CO2-emissions"
   ]
  },
  {
   "cell_type": "markdown",
   "metadata": {},
   "source": [
    "### CO2 Emissions per country in Million tones\n",
    "\n",
    "MtCO2 = 1 million tonnes of CO2\n",
    "To convert between carbon dioxide (CO2) and carbon (C): 3.67 Mt CO2 = 1 Mt C."
   ]
  },
  {
   "cell_type": "code",
   "execution_count": 510,
   "metadata": {},
   "outputs": [
    {
     "data": {
      "text/html": [
       "<div>\n",
       "<style scoped>\n",
       "    .dataframe tbody tr th:only-of-type {\n",
       "        vertical-align: middle;\n",
       "    }\n",
       "\n",
       "    .dataframe tbody tr th {\n",
       "        vertical-align: top;\n",
       "    }\n",
       "\n",
       "    .dataframe thead th {\n",
       "        text-align: right;\n",
       "    }\n",
       "</style>\n",
       "<table border=\"1\" class=\"dataframe\">\n",
       "  <thead>\n",
       "    <tr style=\"text-align: right;\">\n",
       "      <th></th>\n",
       "      <th>Year</th>\n",
       "      <th>Afghanistan</th>\n",
       "      <th>Albania</th>\n",
       "      <th>Algeria</th>\n",
       "      <th>Andorra</th>\n",
       "      <th>Angola</th>\n",
       "      <th>Anguilla</th>\n",
       "      <th>Antigua and Barbuda</th>\n",
       "      <th>Argentina</th>\n",
       "      <th>Armenia</th>\n",
       "      <th>...</th>\n",
       "      <th>Uruguay</th>\n",
       "      <th>Uzbekistan</th>\n",
       "      <th>Vanuatu</th>\n",
       "      <th>Venezuela</th>\n",
       "      <th>Vietnam</th>\n",
       "      <th>Wallis and Futuna Islands</th>\n",
       "      <th>Western Sahara</th>\n",
       "      <th>Yemen</th>\n",
       "      <th>Zambia</th>\n",
       "      <th>Zimbabwe</th>\n",
       "    </tr>\n",
       "  </thead>\n",
       "  <tbody>\n",
       "    <tr>\n",
       "      <th>0</th>\n",
       "      <td>1960</td>\n",
       "      <td>0.41388</td>\n",
       "      <td>2.0225</td>\n",
       "      <td>6.1512</td>\n",
       "      <td>NaN</td>\n",
       "      <td>0.54895</td>\n",
       "      <td>NaN</td>\n",
       "      <td>0.036640</td>\n",
       "      <td>48.7645</td>\n",
       "      <td>2.4936</td>\n",
       "      <td>...</td>\n",
       "      <td>4.3145</td>\n",
       "      <td>47.8515</td>\n",
       "      <td>NaN</td>\n",
       "      <td>57.0168</td>\n",
       "      <td>7.4839</td>\n",
       "      <td>NaN</td>\n",
       "      <td>NaN</td>\n",
       "      <td>3.6310</td>\n",
       "      <td>4.3552</td>\n",
       "      <td>5.9432</td>\n",
       "    </tr>\n",
       "    <tr>\n",
       "      <th>1</th>\n",
       "      <td>1961</td>\n",
       "      <td>0.49080</td>\n",
       "      <td>2.2790</td>\n",
       "      <td>6.0559</td>\n",
       "      <td>NaN</td>\n",
       "      <td>0.45371</td>\n",
       "      <td>NaN</td>\n",
       "      <td>0.047632</td>\n",
       "      <td>51.1267</td>\n",
       "      <td>2.5714</td>\n",
       "      <td>...</td>\n",
       "      <td>4.1168</td>\n",
       "      <td>49.3462</td>\n",
       "      <td>NaN</td>\n",
       "      <td>51.8798</td>\n",
       "      <td>7.9783</td>\n",
       "      <td>NaN</td>\n",
       "      <td>NaN</td>\n",
       "      <td>2.6637</td>\n",
       "      <td>3.7090</td>\n",
       "      <td>5.0613</td>\n",
       "    </tr>\n",
       "    <tr>\n",
       "      <th>2</th>\n",
       "      <td>1962</td>\n",
       "      <td>0.68859</td>\n",
       "      <td>2.4622</td>\n",
       "      <td>5.6610</td>\n",
       "      <td>NaN</td>\n",
       "      <td>1.17910</td>\n",
       "      <td>NaN</td>\n",
       "      <td>0.102590</td>\n",
       "      <td>53.6401</td>\n",
       "      <td>2.6987</td>\n",
       "      <td>...</td>\n",
       "      <td>4.0069</td>\n",
       "      <td>51.7895</td>\n",
       "      <td>0.040304</td>\n",
       "      <td>54.0561</td>\n",
       "      <td>9.3377</td>\n",
       "      <td>NaN</td>\n",
       "      <td>NaN</td>\n",
       "      <td>3.8838</td>\n",
       "      <td>3.5827</td>\n",
       "      <td>4.8890</td>\n",
       "    </tr>\n",
       "    <tr>\n",
       "      <th>3</th>\n",
       "      <td>1963</td>\n",
       "      <td>0.70674</td>\n",
       "      <td>2.0812</td>\n",
       "      <td>5.4192</td>\n",
       "      <td>NaN</td>\n",
       "      <td>1.14970</td>\n",
       "      <td>NaN</td>\n",
       "      <td>0.084272</td>\n",
       "      <td>50.0327</td>\n",
       "      <td>2.8942</td>\n",
       "      <td>...</td>\n",
       "      <td>4.3148</td>\n",
       "      <td>55.5408</td>\n",
       "      <td>0.032976</td>\n",
       "      <td>56.1517</td>\n",
       "      <td>9.1104</td>\n",
       "      <td>NaN</td>\n",
       "      <td>NaN</td>\n",
       "      <td>2.9165</td>\n",
       "      <td>3.4445</td>\n",
       "      <td>4.7004</td>\n",
       "    </tr>\n",
       "    <tr>\n",
       "      <th>4</th>\n",
       "      <td>1964</td>\n",
       "      <td>0.83855</td>\n",
       "      <td>2.0152</td>\n",
       "      <td>5.6430</td>\n",
       "      <td>NaN</td>\n",
       "      <td>1.22290</td>\n",
       "      <td>NaN</td>\n",
       "      <td>0.091600</td>\n",
       "      <td>55.6700</td>\n",
       "      <td>3.0780</td>\n",
       "      <td>...</td>\n",
       "      <td>4.5527</td>\n",
       "      <td>59.0674</td>\n",
       "      <td>0.062288</td>\n",
       "      <td>56.5500</td>\n",
       "      <td>11.7878</td>\n",
       "      <td>NaN</td>\n",
       "      <td>NaN</td>\n",
       "      <td>3.6310</td>\n",
       "      <td>3.2750</td>\n",
       "      <td>4.4691</td>\n",
       "    </tr>\n",
       "  </tbody>\n",
       "</table>\n",
       "<p>5 rows × 221 columns</p>\n",
       "</div>"
      ],
      "text/plain": [
       "   Year  Afghanistan  Albania  Algeria  Andorra   Angola  Anguilla  \\\n",
       "0  1960      0.41388   2.0225   6.1512      NaN  0.54895       NaN   \n",
       "1  1961      0.49080   2.2790   6.0559      NaN  0.45371       NaN   \n",
       "2  1962      0.68859   2.4622   5.6610      NaN  1.17910       NaN   \n",
       "3  1963      0.70674   2.0812   5.4192      NaN  1.14970       NaN   \n",
       "4  1964      0.83855   2.0152   5.6430      NaN  1.22290       NaN   \n",
       "\n",
       "   Antigua and Barbuda  Argentina  Armenia  ...  Uruguay  Uzbekistan  \\\n",
       "0             0.036640    48.7645   2.4936  ...   4.3145     47.8515   \n",
       "1             0.047632    51.1267   2.5714  ...   4.1168     49.3462   \n",
       "2             0.102590    53.6401   2.6987  ...   4.0069     51.7895   \n",
       "3             0.084272    50.0327   2.8942  ...   4.3148     55.5408   \n",
       "4             0.091600    55.6700   3.0780  ...   4.5527     59.0674   \n",
       "\n",
       "    Vanuatu  Venezuela  Vietnam  Wallis and Futuna Islands  Western Sahara  \\\n",
       "0       NaN    57.0168   7.4839                        NaN             NaN   \n",
       "1       NaN    51.8798   7.9783                        NaN             NaN   \n",
       "2  0.040304    54.0561   9.3377                        NaN             NaN   \n",
       "3  0.032976    56.1517   9.1104                        NaN             NaN   \n",
       "4  0.062288    56.5500  11.7878                        NaN             NaN   \n",
       "\n",
       "    Yemen  Zambia  Zimbabwe  \n",
       "0  3.6310  4.3552    5.9432  \n",
       "1  2.6637  3.7090    5.0613  \n",
       "2  3.8838  3.5827    4.8890  \n",
       "3  2.9165  3.4445    4.7004  \n",
       "4  3.6310  3.2750    4.4691  \n",
       "\n",
       "[5 rows x 221 columns]"
      ]
     },
     "execution_count": 510,
     "metadata": {},
     "output_type": "execute_result"
    }
   ],
   "source": [
    "emissions_mt = pd.read_excel(\"emissions_mtco2.xlsx\")"
   ]
  },
  {
   "cell_type": "markdown",
   "metadata": {},
   "source": [
    "### CO2 Emissions per country in kgCO2 per GDP\n",
    "\n",
    "Carbon Intensity: Total CO2 emissions divided by GDP.\n",
    "GDP: Gross Domestic Product, measured in US dollars (USD) at Purchasing Power Parity rates.\n"
   ]
  },
  {
   "cell_type": "code",
   "execution_count": 96,
   "metadata": {},
   "outputs": [],
   "source": [
    "emissions_kg = pd.read_excel(\"emissions_kgco2.xlsx\")"
   ]
  },
  {
   "cell_type": "markdown",
   "metadata": {},
   "source": [
    "### CO2 Emissions in tonnes per person\n",
    "\n",
    "CO2 emissions per person are measured as the total CO2 produced by a country as a consequence of human activities and are divided by the population of that country."
   ]
  },
  {
   "cell_type": "code",
   "execution_count": 97,
   "metadata": {},
   "outputs": [],
   "source": [
    "emissions_pc = pd.read_excel(\"emissions_tco2.xlsx\")"
   ]
  },
  {
   "cell_type": "markdown",
   "metadata": {},
   "source": [
    "### Land Use Emissions\n",
    "\n",
    "Carbon dioxide emissions from land use, land use change and forestry (primarily deforestation). Global data values have an uncertainly of ±2 GtCO2 reported as ±1 sigma (68% chance that the real value lies within the given interval). Regional data generally have uncertainty of about ± 50%. For more information see: Section 2.2, Global Carbon Budget 2018, Le Quéré et al. 2018.\n",
    "\n"
   ]
  },
  {
   "cell_type": "code",
   "execution_count": 437,
   "metadata": {},
   "outputs": [],
   "source": [
    "land_use = pd.read_excel(\"land_use_change.xlsx\")"
   ]
  },
  {
   "cell_type": "code",
   "execution_count": 439,
   "metadata": {},
   "outputs": [
    {
     "data": {
      "text/html": [
       "<div>\n",
       "<style scoped>\n",
       "    .dataframe tbody tr th:only-of-type {\n",
       "        vertical-align: middle;\n",
       "    }\n",
       "\n",
       "    .dataframe tbody tr th {\n",
       "        vertical-align: top;\n",
       "    }\n",
       "\n",
       "    .dataframe thead th {\n",
       "        text-align: right;\n",
       "    }\n",
       "</style>\n",
       "<table border=\"1\" class=\"dataframe\">\n",
       "  <thead>\n",
       "    <tr style=\"text-align: right;\">\n",
       "      <th></th>\n",
       "      <th>Year</th>\n",
       "      <th>Canada</th>\n",
       "      <th>Caribbean</th>\n",
       "      <th>Central Africa</th>\n",
       "      <th>Central America &amp; Mexico</th>\n",
       "      <th>China</th>\n",
       "      <th>East Africa</th>\n",
       "      <th>East Asia</th>\n",
       "      <th>Europe</th>\n",
       "      <th>Former Soviet Union</th>\n",
       "      <th>NonTropical S. America</th>\n",
       "      <th>North Africa &amp; Middle East</th>\n",
       "      <th>Oceania</th>\n",
       "      <th>South Asia</th>\n",
       "      <th>Southeast Asia</th>\n",
       "      <th>Southern Africa</th>\n",
       "      <th>Tropical S. America</th>\n",
       "      <th>USA</th>\n",
       "      <th>West Africa</th>\n",
       "    </tr>\n",
       "  </thead>\n",
       "  <tbody>\n",
       "    <tr>\n",
       "      <th>46</th>\n",
       "      <td>2006</td>\n",
       "      <td>7.196870</td>\n",
       "      <td>-7.839992</td>\n",
       "      <td>218.930914</td>\n",
       "      <td>149.754350</td>\n",
       "      <td>-309.245944</td>\n",
       "      <td>224.323979</td>\n",
       "      <td>-184.327952</td>\n",
       "      <td>-226.209992</td>\n",
       "      <td>-582.484050</td>\n",
       "      <td>79.874614</td>\n",
       "      <td>-9.718527</td>\n",
       "      <td>66.414155</td>\n",
       "      <td>-61.197984</td>\n",
       "      <td>2357.697915</td>\n",
       "      <td>393.177743</td>\n",
       "      <td>1447.225598</td>\n",
       "      <td>-113.428690</td>\n",
       "      <td>417.352400</td>\n",
       "    </tr>\n",
       "    <tr>\n",
       "      <th>47</th>\n",
       "      <td>2007</td>\n",
       "      <td>-46.266222</td>\n",
       "      <td>-7.317832</td>\n",
       "      <td>216.744695</td>\n",
       "      <td>139.780391</td>\n",
       "      <td>-336.326507</td>\n",
       "      <td>233.709637</td>\n",
       "      <td>-187.652238</td>\n",
       "      <td>-216.894431</td>\n",
       "      <td>-591.483257</td>\n",
       "      <td>78.329544</td>\n",
       "      <td>-12.347348</td>\n",
       "      <td>65.203055</td>\n",
       "      <td>-72.124675</td>\n",
       "      <td>1045.493085</td>\n",
       "      <td>377.957152</td>\n",
       "      <td>1395.327761</td>\n",
       "      <td>-117.242921</td>\n",
       "      <td>437.152050</td>\n",
       "    </tr>\n",
       "    <tr>\n",
       "      <th>48</th>\n",
       "      <td>2008</td>\n",
       "      <td>34.831236</td>\n",
       "      <td>-7.614832</td>\n",
       "      <td>217.405662</td>\n",
       "      <td>145.453477</td>\n",
       "      <td>-355.909994</td>\n",
       "      <td>238.631841</td>\n",
       "      <td>-157.393822</td>\n",
       "      <td>-206.673114</td>\n",
       "      <td>-585.464824</td>\n",
       "      <td>16.412240</td>\n",
       "      <td>-10.184617</td>\n",
       "      <td>83.234132</td>\n",
       "      <td>-70.922383</td>\n",
       "      <td>1120.381637</td>\n",
       "      <td>352.568826</td>\n",
       "      <td>1343.551768</td>\n",
       "      <td>-128.832414</td>\n",
       "      <td>448.851643</td>\n",
       "    </tr>\n",
       "    <tr>\n",
       "      <th>49</th>\n",
       "      <td>2009</td>\n",
       "      <td>10.059103</td>\n",
       "      <td>-6.930242</td>\n",
       "      <td>222.956537</td>\n",
       "      <td>132.376900</td>\n",
       "      <td>-371.934682</td>\n",
       "      <td>236.439016</td>\n",
       "      <td>-148.127072</td>\n",
       "      <td>-199.263751</td>\n",
       "      <td>-569.498489</td>\n",
       "      <td>41.513205</td>\n",
       "      <td>-9.121785</td>\n",
       "      <td>78.125492</td>\n",
       "      <td>-74.342456</td>\n",
       "      <td>1515.536042</td>\n",
       "      <td>337.959657</td>\n",
       "      <td>1291.377580</td>\n",
       "      <td>-139.325311</td>\n",
       "      <td>467.719113</td>\n",
       "    </tr>\n",
       "    <tr>\n",
       "      <th>50</th>\n",
       "      <td>2010</td>\n",
       "      <td>36.563843</td>\n",
       "      <td>-6.744795</td>\n",
       "      <td>216.767816</td>\n",
       "      <td>128.834616</td>\n",
       "      <td>-392.848911</td>\n",
       "      <td>231.682329</td>\n",
       "      <td>-159.471409</td>\n",
       "      <td>-177.081170</td>\n",
       "      <td>-542.885484</td>\n",
       "      <td>39.251017</td>\n",
       "      <td>-5.804839</td>\n",
       "      <td>96.917360</td>\n",
       "      <td>-73.795626</td>\n",
       "      <td>1164.185289</td>\n",
       "      <td>321.999561</td>\n",
       "      <td>1269.564935</td>\n",
       "      <td>-152.869446</td>\n",
       "      <td>486.457032</td>\n",
       "    </tr>\n",
       "  </tbody>\n",
       "</table>\n",
       "</div>"
      ],
      "text/plain": [
       "    Year     Canada  Caribbean  Central Africa  Central America & Mexico  \\\n",
       "46  2006   7.196870  -7.839992      218.930914                149.754350   \n",
       "47  2007 -46.266222  -7.317832      216.744695                139.780391   \n",
       "48  2008  34.831236  -7.614832      217.405662                145.453477   \n",
       "49  2009  10.059103  -6.930242      222.956537                132.376900   \n",
       "50  2010  36.563843  -6.744795      216.767816                128.834616   \n",
       "\n",
       "         China  East Africa   East Asia      Europe  Former Soviet Union  \\\n",
       "46 -309.245944   224.323979 -184.327952 -226.209992          -582.484050   \n",
       "47 -336.326507   233.709637 -187.652238 -216.894431          -591.483257   \n",
       "48 -355.909994   238.631841 -157.393822 -206.673114          -585.464824   \n",
       "49 -371.934682   236.439016 -148.127072 -199.263751          -569.498489   \n",
       "50 -392.848911   231.682329 -159.471409 -177.081170          -542.885484   \n",
       "\n",
       "    NonTropical S. America  North Africa & Middle East    Oceania  South Asia  \\\n",
       "46               79.874614                   -9.718527  66.414155  -61.197984   \n",
       "47               78.329544                  -12.347348  65.203055  -72.124675   \n",
       "48               16.412240                  -10.184617  83.234132  -70.922383   \n",
       "49               41.513205                   -9.121785  78.125492  -74.342456   \n",
       "50               39.251017                   -5.804839  96.917360  -73.795626   \n",
       "\n",
       "    Southeast Asia  Southern Africa  Tropical S. America         USA  \\\n",
       "46     2357.697915       393.177743          1447.225598 -113.428690   \n",
       "47     1045.493085       377.957152          1395.327761 -117.242921   \n",
       "48     1120.381637       352.568826          1343.551768 -128.832414   \n",
       "49     1515.536042       337.959657          1291.377580 -139.325311   \n",
       "50     1164.185289       321.999561          1269.564935 -152.869446   \n",
       "\n",
       "    West Africa  \n",
       "46   417.352400  \n",
       "47   437.152050  \n",
       "48   448.851643  \n",
       "49   467.719113  \n",
       "50   486.457032  "
      ]
     },
     "execution_count": 439,
     "metadata": {},
     "output_type": "execute_result"
    }
   ],
   "source": [
    "land_use.tail()"
   ]
  },
  {
   "cell_type": "markdown",
   "metadata": {},
   "source": [
    "# Analysis Events per category and year"
   ]
  },
  {
   "cell_type": "code",
   "execution_count": 99,
   "metadata": {},
   "outputs": [
    {
     "data": {
      "text/plain": [
       "Severe Storms           1792\n",
       "Wildfires               1459\n",
       "Volcanoes                847\n",
       "Floods                   116\n",
       "Sea and Lake Ice          58\n",
       "Dust and Haze             17\n",
       "Water Color               17\n",
       "Earthquakes               15\n",
       "Temperature Extremes      14\n",
       "Drought                    7\n",
       "Manmade                    5\n",
       "Snow                       3\n",
       "Landslides                 2\n",
       "Name: categories, dtype: int64"
      ]
     },
     "execution_count": 99,
     "metadata": {},
     "output_type": "execute_result"
    }
   ],
   "source": [
    "df_ev.categories.value_counts()"
   ]
  },
  {
   "cell_type": "code",
   "execution_count": 110,
   "metadata": {},
   "outputs": [],
   "source": [
    "#Extracting the year for each entry of the data set. We want the information year by year\n",
    "\n",
    "df_ev[\"year\"]= df_ev[\"date\"].dt.year"
   ]
  },
  {
   "cell_type": "code",
   "execution_count": 236,
   "metadata": {},
   "outputs": [],
   "source": [
    "events_per_year_cat = df_ev.groupby([\"year\", 'categories'])[[\"id\"]].count()\n",
    "events_per_year_cat.columns = [\"no_of_events\"]\n",
    "#data.groupby(['month', 'item'])['date'].count()"
   ]
  },
  {
   "cell_type": "code",
   "execution_count": 540,
   "metadata": {},
   "outputs": [],
   "source": [
    "from matplotlib import pyplot as plt"
   ]
  },
  {
   "cell_type": "code",
   "execution_count": 545,
   "metadata": {},
   "outputs": [],
   "source": [
    "events_year = df_ev.groupby([\"year\"])[[\"id\"]].count().reset_index()"
   ]
  },
  {
   "cell_type": "code",
   "execution_count": 549,
   "metadata": {},
   "outputs": [],
   "source": [
    "events_year.columns= [\"Year\", \"Number_of_events\"]"
   ]
  },
  {
   "cell_type": "code",
   "execution_count": 606,
   "metadata": {},
   "outputs": [
    {
     "data": {
      "text/plain": [
       "<matplotlib.axes._subplots.AxesSubplot at 0x1a23de0c88>"
      ]
     },
     "execution_count": 606,
     "metadata": {},
     "output_type": "execute_result"
    },
    {
     "data": {
      "image/png": "[encoded data removed]",
      "text/plain": [
       "<Figure size 432x288 with 1 Axes>"
      ]
     },
     "metadata": {},
     "output_type": "display_data"
    }
   ],
   "source": [
    "#sns.set('figure.facecolor':'black')\n",
    "sns.set_style(\"darkgrid\")\n",
    "sns.lineplot(x=\"Year\", y=\"Number_of_events\", data=events_year, color=\"c\")\n"
   ]
  },
  {
   "cell_type": "code",
   "execution_count": 238,
   "metadata": {},
   "outputs": [],
   "source": [
    "events_year2000 = df_ev[df_ev[\"year\"] >= 2000].groupby([\"year\"])[[\"id\"]].count()\n",
    "\n",
    "#imag_1.legend(loc='lower right', bbox_to_anchor=(1.2, 0.5), bbox_transform=plt.gcf().transFigure)"
   ]
  },
  {
   "cell_type": "code",
   "execution_count": 239,
   "metadata": {},
   "outputs": [],
   "source": [
    "events_year2000= events_year2000.reset_index()"
   ]
  },
  {
   "cell_type": "code",
   "execution_count": 315,
   "metadata": {},
   "outputs": [
    {
     "data": {
      "image/png": "[encoded data removed]",
      "text/plain": [
       "<Figure size 864x504 with 1 Axes>"
      ]
     },
     "metadata": {
      "needs_background": "light"
     },
     "output_type": "display_data"
    }
   ],
   "source": [
    "#gca stands for 'get current axis'\n",
    "ax = plt.gca()\n",
    "\n",
    "events_year2000.plot(kind='bar',x='year',y='id',ax=ax, title = \"Natural events over the years\", legend= False, color = \"cornflowerblue\", figsize= (12,7))\n",
    "\n",
    "plt.show()\n",
    "\n",
    "events_year2000.plot(kind='bar',x='year',y='id',ax=ax, title = \"Natural events over the years\", legend= False, color = \"cornflowerblue\", figsize= (12,7)).get_figure().savefig('fig01.png')\n"
   ]
  },
  {
   "cell_type": "code",
   "execution_count": 597,
   "metadata": {},
   "outputs": [],
   "source": [
    "events_year2000.plot(kind='line',x='year',y='id',ax=ax, title = \"Natural events over the years\", legend= False, color = \"cornflowerblue\", figsize= (12,7)).get_figure().savefig('fig01.png')\n"
   ]
  },
  {
   "cell_type": "code",
   "execution_count": 313,
   "metadata": {},
   "outputs": [],
   "source": [
    "events_year2000_cat = df_ev[df_ev[\"year\"] >= 2000].groupby([\"year\", 'categories'])[[\"id\"]].count()"
   ]
  },
  {
   "cell_type": "code",
   "execution_count": 322,
   "metadata": {},
   "outputs": [
    {
     "data": {
      "image/png": "[encoded data removed]",
      "text/plain": [
       "<Figure size 864x504 with 1 Axes>"
      ]
     },
     "metadata": {
      "needs_background": "light"
     },
     "output_type": "display_data"
    }
   ],
   "source": [
    "#fig, ax = plt.subplots()\n",
    "#lines = ax.plot(events_year2000_cat.unstack())\n",
    "#ax.legend(['Drought', 'Dust and Haze', 'Earthquakes', 'Floods', 'Landslides', 'Manmade', 'Sea and Lake Ice', 'Severe Storms', 'Snow', 'Temperature Extremes', 'Volcanoes', 'Water Color', 'Wildfires'])\n",
    "events_year2000_cat.unstack().plot(title = \"Natural events per category\", figsize=(12,7)).legend(bbox_to_anchor=(1.04,1), loc=\"upper left\",frameon= False, title = \"Category\").get_figure().savefig('fig_02.png')"
   ]
  },
  {
   "cell_type": "code",
   "execution_count": 323,
   "metadata": {},
   "outputs": [],
   "source": [
    "#fig.get_figure().savefig('output.png')\n",
    "\n",
    "events_year2014_cat = df_ev[df_ev[\"year\"] >= 2014].groupby([\"year\", 'categories'])[[\"id\"]].count()"
   ]
  },
  {
   "cell_type": "code",
   "execution_count": 324,
   "metadata": {},
   "outputs": [
    {
     "data": {
      "image/png": "[encoded data removed]",
      "text/plain": [
       "<Figure size 864x576 with 1 Axes>"
      ]
     },
     "metadata": {
      "needs_background": "light"
     },
     "output_type": "display_data"
    }
   ],
   "source": [
    "events_year2014_cat.unstack().plot(title = \"Natural events per category\", figsize=(12,8)).legend(bbox_to_anchor=(1.04,1), loc=\"upper left\",frameon= False, title = \"Category\").get_figure().savefig('fig_03.png')"
   ]
  },
  {
   "cell_type": "code",
   "execution_count": 342,
   "metadata": {},
   "outputs": [],
   "source": [
    "last_6_years_events= df_ev[df_ev[\"year\"] >= 2013].groupby(['categories'])[[\"id\"]].count().reset_index().sort_values(\"id\", ascending= False);\n",
    "last_6_years_events.columns= [\"Categories\", \"no_of_ocurrences\"]"
   ]
  },
  {
   "cell_type": "markdown",
   "metadata": {},
   "source": [
    "These are the most frequent natural events over the last 5 years:"
   ]
  },
  {
   "cell_type": "code",
   "execution_count": 354,
   "metadata": {},
   "outputs": [],
   "source": [
    "top_5= last_6_years_events.head(5)"
   ]
  },
  {
   "cell_type": "code",
   "execution_count": 396,
   "metadata": {},
   "outputs": [
    {
     "data": {
      "image/png": "[encoded data removed]",
      "text/plain": [
       "<Figure size 864x504 with 1 Axes>"
      ]
     },
     "metadata": {
      "needs_background": "light"
     },
     "output_type": "display_data"
    }
   ],
   "source": [
    "top_5.plot(kind= \"barh\", x= \"Categories\", y= \"no_of_ocurrences\", legend= False, title= \"Most frequent natural events (2013-2019)\", color= \"hotpink\",  figsize=(12,7)).get_figure().savefig('fig_04.png')"
   ]
  },
  {
   "cell_type": "markdown",
   "metadata": {},
   "source": [
    "We will create a heatmap to see the overall distribution of natural events along the years. First we group and aggregate the information in the next dataframe:"
   ]
  },
  {
   "cell_type": "code",
   "execution_count": 390,
   "metadata": {},
   "outputs": [],
   "source": [
    "by_cat = (df_ev[df_ev[\"year\"]>=2000]\n",
    "            .groupby(['categories', \"year\"])\n",
    "            .size()\n",
    "            .unstack()\n",
    "           )"
   ]
  },
  {
   "cell_type": "code",
   "execution_count": 395,
   "metadata": {},
   "outputs": [
    {
     "data": {
      "image/png": "[encoded data removed]",
      "text/plain": [
       "<Figure size 720x720 with 2 Axes>"
      ]
     },
     "metadata": {
      "needs_background": "light"
     },
     "output_type": "display_data"
    }
   ],
   "source": [
    "plt.figure(figsize=(10,10))\n",
    "g = sns.heatmap(\n",
    "    by_cat, \n",
    "    square=True, # make cells square\n",
    "    cbar_kws={'fraction' : 0.01}, # shrink colour bar\n",
    "    cmap='YlOrBr', # use orange/red colour map\n",
    "    linewidth=1 # space between cells\n",
    ")\n",
    "g.set_xticklabels(g.get_xticklabels(), rotation=45, horizontalalignment='right');"
   ]
  },
  {
   "cell_type": "code",
   "execution_count": 607,
   "metadata": {},
   "outputs": [],
   "source": [
    "g.get_figure().savefig(\"heatmap.png\")"
   ]
  },
  {
   "cell_type": "code",
   "execution_count": 401,
   "metadata": {},
   "outputs": [
    {
     "data": {
      "text/html": [
       "<div>\n",
       "<style scoped>\n",
       "    .dataframe tbody tr th:only-of-type {\n",
       "        vertical-align: middle;\n",
       "    }\n",
       "\n",
       "    .dataframe tbody tr th {\n",
       "        vertical-align: top;\n",
       "    }\n",
       "\n",
       "    .dataframe thead th {\n",
       "        text-align: right;\n",
       "    }\n",
       "</style>\n",
       "<table border=\"1\" class=\"dataframe\">\n",
       "  <thead>\n",
       "    <tr style=\"text-align: right;\">\n",
       "      <th></th>\n",
       "      <th>id</th>\n",
       "      <th>title</th>\n",
       "      <th>categories</th>\n",
       "      <th>date</th>\n",
       "      <th>closed</th>\n",
       "      <th>date_closed</th>\n",
       "      <th>geometries</th>\n",
       "      <th>year</th>\n",
       "    </tr>\n",
       "  </thead>\n",
       "  <tbody>\n",
       "    <tr>\n",
       "      <th>0</th>\n",
       "      <td>EONET_4488</td>\n",
       "      <td>Wildfires - Riverside County  (Hill Fire), Cal...</td>\n",
       "      <td>Wildfires</td>\n",
       "      <td>2019-10-30</td>\n",
       "      <td>False</td>\n",
       "      <td>NaT</td>\n",
       "      <td>{'type': 'Point', 'coordinates': [-117.46421, ...</td>\n",
       "      <td>2019</td>\n",
       "    </tr>\n",
       "    <tr>\n",
       "      <th>1</th>\n",
       "      <td>EONET_4487</td>\n",
       "      <td>Wildfires - Ventura County (Easy Fire), Califo...</td>\n",
       "      <td>Wildfires</td>\n",
       "      <td>2019-10-30</td>\n",
       "      <td>False</td>\n",
       "      <td>NaT</td>\n",
       "      <td>{'type': 'Point', 'coordinates': [-118.8304898...</td>\n",
       "      <td>2019</td>\n",
       "    </tr>\n",
       "    <tr>\n",
       "      <th>2</th>\n",
       "      <td>EONET_4485</td>\n",
       "      <td>Tropical Cyclone Maha</td>\n",
       "      <td>Severe Storms</td>\n",
       "      <td>2019-10-30</td>\n",
       "      <td>False</td>\n",
       "      <td>NaT</td>\n",
       "      <td>{'type': 'Point', 'coordinates': [74.8, 8.8]}</td>\n",
       "      <td>2019</td>\n",
       "    </tr>\n",
       "    <tr>\n",
       "      <th>3</th>\n",
       "      <td>EONET_4484</td>\n",
       "      <td>Tropical Storm Matmo</td>\n",
       "      <td>Severe Storms</td>\n",
       "      <td>2019-10-30</td>\n",
       "      <td>False</td>\n",
       "      <td>NaT</td>\n",
       "      <td>{'type': 'Point', 'coordinates': [111.9, 13.0]}</td>\n",
       "      <td>2019</td>\n",
       "    </tr>\n",
       "    <tr>\n",
       "      <th>4</th>\n",
       "      <td>EONET_4486</td>\n",
       "      <td>Subtropical Storm Rebekah</td>\n",
       "      <td>Severe Storms</td>\n",
       "      <td>2019-10-30</td>\n",
       "      <td>False</td>\n",
       "      <td>NaT</td>\n",
       "      <td>{'type': 'Point', 'coordinates': [-40.7, 38.3]}</td>\n",
       "      <td>2019</td>\n",
       "    </tr>\n",
       "  </tbody>\n",
       "</table>\n",
       "</div>"
      ],
      "text/plain": [
       "           id                                              title  \\\n",
       "0  EONET_4488  Wildfires - Riverside County  (Hill Fire), Cal...   \n",
       "1  EONET_4487  Wildfires - Ventura County (Easy Fire), Califo...   \n",
       "2  EONET_4485                              Tropical Cyclone Maha   \n",
       "3  EONET_4484                               Tropical Storm Matmo   \n",
       "4  EONET_4486                          Subtropical Storm Rebekah   \n",
       "\n",
       "      categories       date  closed date_closed  \\\n",
       "0      Wildfires 2019-10-30   False         NaT   \n",
       "1      Wildfires 2019-10-30   False         NaT   \n",
       "2  Severe Storms 2019-10-30   False         NaT   \n",
       "3  Severe Storms 2019-10-30   False         NaT   \n",
       "4  Severe Storms 2019-10-30   False         NaT   \n",
       "\n",
       "                                          geometries  year  \n",
       "0  {'type': 'Point', 'coordinates': [-117.46421, ...  2019  \n",
       "1  {'type': 'Point', 'coordinates': [-118.8304898...  2019  \n",
       "2      {'type': 'Point', 'coordinates': [74.8, 8.8]}  2019  \n",
       "3    {'type': 'Point', 'coordinates': [111.9, 13.0]}  2019  \n",
       "4    {'type': 'Point', 'coordinates': [-40.7, 38.3]}  2019  "
      ]
     },
     "execution_count": 401,
     "metadata": {},
     "output_type": "execute_result"
    }
   ],
   "source": [
    "df_ev.head()"
   ]
  },
  {
   "cell_type": "code",
   "execution_count": 412,
   "metadata": {},
   "outputs": [],
   "source": [
    "by_cat_total= df_ev.groupby([\"year\", \"categories\"])[[\"id\"]].count().reset_index()"
   ]
  },
  {
   "cell_type": "code",
   "execution_count": 414,
   "metadata": {},
   "outputs": [],
   "source": [
    "by_cat_total.columns = [\"year\", \"category\", \"frequency\"]"
   ]
  },
  {
   "cell_type": "code",
   "execution_count": 418,
   "metadata": {},
   "outputs": [],
   "source": [
    "by_year_total= by_cat_total.groupby(\"year\").sum().reset_index()"
   ]
  },
  {
   "cell_type": "code",
   "execution_count": null,
   "metadata": {},
   "outputs": [],
   "source": []
  },
  {
   "cell_type": "code",
   "execution_count": 511,
   "metadata": {},
   "outputs": [
    {
     "data": {
      "text/html": [
       "<div>\n",
       "<style scoped>\n",
       "    .dataframe tbody tr th:only-of-type {\n",
       "        vertical-align: middle;\n",
       "    }\n",
       "\n",
       "    .dataframe tbody tr th {\n",
       "        vertical-align: top;\n",
       "    }\n",
       "\n",
       "    .dataframe thead th {\n",
       "        text-align: right;\n",
       "    }\n",
       "</style>\n",
       "<table border=\"1\" class=\"dataframe\">\n",
       "  <thead>\n",
       "    <tr style=\"text-align: right;\">\n",
       "      <th></th>\n",
       "      <th>Year</th>\n",
       "      <th>Afghanistan</th>\n",
       "      <th>Albania</th>\n",
       "      <th>Algeria</th>\n",
       "      <th>Andorra</th>\n",
       "      <th>Angola</th>\n",
       "      <th>Anguilla</th>\n",
       "      <th>Antigua and Barbuda</th>\n",
       "      <th>Argentina</th>\n",
       "      <th>Armenia</th>\n",
       "      <th>...</th>\n",
       "      <th>Uruguay</th>\n",
       "      <th>Uzbekistan</th>\n",
       "      <th>Vanuatu</th>\n",
       "      <th>Venezuela</th>\n",
       "      <th>Vietnam</th>\n",
       "      <th>Wallis and Futuna Islands</th>\n",
       "      <th>Western Sahara</th>\n",
       "      <th>Yemen</th>\n",
       "      <th>Zambia</th>\n",
       "      <th>Zimbabwe</th>\n",
       "    </tr>\n",
       "  </thead>\n",
       "  <tbody>\n",
       "    <tr>\n",
       "      <th>0</th>\n",
       "      <td>1960</td>\n",
       "      <td>0.41388</td>\n",
       "      <td>2.0225</td>\n",
       "      <td>6.1512</td>\n",
       "      <td>NaN</td>\n",
       "      <td>0.54895</td>\n",
       "      <td>NaN</td>\n",
       "      <td>0.036640</td>\n",
       "      <td>48.7645</td>\n",
       "      <td>2.4936</td>\n",
       "      <td>...</td>\n",
       "      <td>4.3145</td>\n",
       "      <td>47.8515</td>\n",
       "      <td>NaN</td>\n",
       "      <td>57.0168</td>\n",
       "      <td>7.4839</td>\n",
       "      <td>NaN</td>\n",
       "      <td>NaN</td>\n",
       "      <td>3.6310</td>\n",
       "      <td>4.3552</td>\n",
       "      <td>5.9432</td>\n",
       "    </tr>\n",
       "    <tr>\n",
       "      <th>1</th>\n",
       "      <td>1961</td>\n",
       "      <td>0.49080</td>\n",
       "      <td>2.2790</td>\n",
       "      <td>6.0559</td>\n",
       "      <td>NaN</td>\n",
       "      <td>0.45371</td>\n",
       "      <td>NaN</td>\n",
       "      <td>0.047632</td>\n",
       "      <td>51.1267</td>\n",
       "      <td>2.5714</td>\n",
       "      <td>...</td>\n",
       "      <td>4.1168</td>\n",
       "      <td>49.3462</td>\n",
       "      <td>NaN</td>\n",
       "      <td>51.8798</td>\n",
       "      <td>7.9783</td>\n",
       "      <td>NaN</td>\n",
       "      <td>NaN</td>\n",
       "      <td>2.6637</td>\n",
       "      <td>3.7090</td>\n",
       "      <td>5.0613</td>\n",
       "    </tr>\n",
       "    <tr>\n",
       "      <th>2</th>\n",
       "      <td>1962</td>\n",
       "      <td>0.68859</td>\n",
       "      <td>2.4622</td>\n",
       "      <td>5.6610</td>\n",
       "      <td>NaN</td>\n",
       "      <td>1.17910</td>\n",
       "      <td>NaN</td>\n",
       "      <td>0.102590</td>\n",
       "      <td>53.6401</td>\n",
       "      <td>2.6987</td>\n",
       "      <td>...</td>\n",
       "      <td>4.0069</td>\n",
       "      <td>51.7895</td>\n",
       "      <td>0.040304</td>\n",
       "      <td>54.0561</td>\n",
       "      <td>9.3377</td>\n",
       "      <td>NaN</td>\n",
       "      <td>NaN</td>\n",
       "      <td>3.8838</td>\n",
       "      <td>3.5827</td>\n",
       "      <td>4.8890</td>\n",
       "    </tr>\n",
       "    <tr>\n",
       "      <th>3</th>\n",
       "      <td>1963</td>\n",
       "      <td>0.70674</td>\n",
       "      <td>2.0812</td>\n",
       "      <td>5.4192</td>\n",
       "      <td>NaN</td>\n",
       "      <td>1.14970</td>\n",
       "      <td>NaN</td>\n",
       "      <td>0.084272</td>\n",
       "      <td>50.0327</td>\n",
       "      <td>2.8942</td>\n",
       "      <td>...</td>\n",
       "      <td>4.3148</td>\n",
       "      <td>55.5408</td>\n",
       "      <td>0.032976</td>\n",
       "      <td>56.1517</td>\n",
       "      <td>9.1104</td>\n",
       "      <td>NaN</td>\n",
       "      <td>NaN</td>\n",
       "      <td>2.9165</td>\n",
       "      <td>3.4445</td>\n",
       "      <td>4.7004</td>\n",
       "    </tr>\n",
       "    <tr>\n",
       "      <th>4</th>\n",
       "      <td>1964</td>\n",
       "      <td>0.83855</td>\n",
       "      <td>2.0152</td>\n",
       "      <td>5.6430</td>\n",
       "      <td>NaN</td>\n",
       "      <td>1.22290</td>\n",
       "      <td>NaN</td>\n",
       "      <td>0.091600</td>\n",
       "      <td>55.6700</td>\n",
       "      <td>3.0780</td>\n",
       "      <td>...</td>\n",
       "      <td>4.5527</td>\n",
       "      <td>59.0674</td>\n",
       "      <td>0.062288</td>\n",
       "      <td>56.5500</td>\n",
       "      <td>11.7878</td>\n",
       "      <td>NaN</td>\n",
       "      <td>NaN</td>\n",
       "      <td>3.6310</td>\n",
       "      <td>3.2750</td>\n",
       "      <td>4.4691</td>\n",
       "    </tr>\n",
       "  </tbody>\n",
       "</table>\n",
       "<p>5 rows × 221 columns</p>\n",
       "</div>"
      ],
      "text/plain": [
       "   Year  Afghanistan  Albania  Algeria  Andorra   Angola  Anguilla  \\\n",
       "0  1960      0.41388   2.0225   6.1512      NaN  0.54895       NaN   \n",
       "1  1961      0.49080   2.2790   6.0559      NaN  0.45371       NaN   \n",
       "2  1962      0.68859   2.4622   5.6610      NaN  1.17910       NaN   \n",
       "3  1963      0.70674   2.0812   5.4192      NaN  1.14970       NaN   \n",
       "4  1964      0.83855   2.0152   5.6430      NaN  1.22290       NaN   \n",
       "\n",
       "   Antigua and Barbuda  Argentina  Armenia  ...  Uruguay  Uzbekistan  \\\n",
       "0             0.036640    48.7645   2.4936  ...   4.3145     47.8515   \n",
       "1             0.047632    51.1267   2.5714  ...   4.1168     49.3462   \n",
       "2             0.102590    53.6401   2.6987  ...   4.0069     51.7895   \n",
       "3             0.084272    50.0327   2.8942  ...   4.3148     55.5408   \n",
       "4             0.091600    55.6700   3.0780  ...   4.5527     59.0674   \n",
       "\n",
       "    Vanuatu  Venezuela  Vietnam  Wallis and Futuna Islands  Western Sahara  \\\n",
       "0       NaN    57.0168   7.4839                        NaN             NaN   \n",
       "1       NaN    51.8798   7.9783                        NaN             NaN   \n",
       "2  0.040304    54.0561   9.3377                        NaN             NaN   \n",
       "3  0.032976    56.1517   9.1104                        NaN             NaN   \n",
       "4  0.062288    56.5500  11.7878                        NaN             NaN   \n",
       "\n",
       "    Yemen  Zambia  Zimbabwe  \n",
       "0  3.6310  4.3552    5.9432  \n",
       "1  2.6637  3.7090    5.0613  \n",
       "2  3.8838  3.5827    4.8890  \n",
       "3  2.9165  3.4445    4.7004  \n",
       "4  3.6310  3.2750    4.4691  \n",
       "\n",
       "[5 rows x 221 columns]"
      ]
     },
     "execution_count": 511,
     "metadata": {},
     "output_type": "execute_result"
    }
   ],
   "source": [
    "emissions_mt.head()"
   ]
  },
  {
   "cell_type": "code",
   "execution_count": 512,
   "metadata": {},
   "outputs": [],
   "source": [
    "emissions_mt[\"mt_CO2_global\"]= emissions_mt.sum(axis = 1, skipna = True)\n",
    "emissions_kg[\"kg_CO2_global\"]= emissions_kg.sum(axis = 1, skipna = True)\n",
    "emissions_pc[\"pc_CO2_average\"]= emissions_pc.mean(axis = 1, skipna = True)"
   ]
  },
  {
   "cell_type": "code",
   "execution_count": 517,
   "metadata": {},
   "outputs": [],
   "source": [
    "aux_mt = emissions_mt[[\"Year\", \"mt_CO2_global\"]]\n",
    "aux_kg = emissions_kg[[\"Year\", \"kg_CO2_global\"]]\n",
    "aux_pc = emissions_pc[[\"Year\", \"pc_CO2_average\"]]"
   ]
  },
  {
   "cell_type": "code",
   "execution_count": 519,
   "metadata": {},
   "outputs": [],
   "source": [
    "emissions_combined = pd.merge(aux_mt, aux_kg, on= \"Year\")"
   ]
  },
  {
   "cell_type": "code",
   "execution_count": 522,
   "metadata": {},
   "outputs": [],
   "source": [
    "emissions_combined = pd.merge(emissions_combined, aux_pc, on =\"Year\")"
   ]
  },
  {
   "cell_type": "code",
   "execution_count": 624,
   "metadata": {},
   "outputs": [
    {
     "data": {
      "text/html": [
       "<div>\n",
       "<style scoped>\n",
       "    .dataframe tbody tr th:only-of-type {\n",
       "        vertical-align: middle;\n",
       "    }\n",
       "\n",
       "    .dataframe tbody tr th {\n",
       "        vertical-align: top;\n",
       "    }\n",
       "\n",
       "    .dataframe thead th {\n",
       "        text-align: right;\n",
       "    }\n",
       "</style>\n",
       "<table border=\"1\" class=\"dataframe\">\n",
       "  <thead>\n",
       "    <tr style=\"text-align: right;\">\n",
       "      <th></th>\n",
       "      <th>Year</th>\n",
       "      <th>mt_CO2_global</th>\n",
       "      <th>kg_CO2_global</th>\n",
       "      <th>pc_CO2_average</th>\n",
       "    </tr>\n",
       "  </thead>\n",
       "  <tbody>\n",
       "    <tr>\n",
       "      <th>0</th>\n",
       "      <td>1960</td>\n",
       "      <td>11064.131248</td>\n",
       "      <td>3920.0</td>\n",
       "      <td>13.719937</td>\n",
       "    </tr>\n",
       "    <tr>\n",
       "      <th>1</th>\n",
       "      <td>1961</td>\n",
       "      <td>11061.885846</td>\n",
       "      <td>3922.0</td>\n",
       "      <td>13.804837</td>\n",
       "    </tr>\n",
       "    <tr>\n",
       "      <th>2</th>\n",
       "      <td>1962</td>\n",
       "      <td>11385.687956</td>\n",
       "      <td>3924.0</td>\n",
       "      <td>13.838856</td>\n",
       "    </tr>\n",
       "    <tr>\n",
       "      <th>3</th>\n",
       "      <td>1963</td>\n",
       "      <td>11923.171792</td>\n",
       "      <td>3926.0</td>\n",
       "      <td>14.295206</td>\n",
       "    </tr>\n",
       "    <tr>\n",
       "      <th>4</th>\n",
       "      <td>1964</td>\n",
       "      <td>12430.081615</td>\n",
       "      <td>3928.0</td>\n",
       "      <td>14.307196</td>\n",
       "    </tr>\n",
       "    <tr>\n",
       "      <th>5</th>\n",
       "      <td>1965</td>\n",
       "      <td>12921.535815</td>\n",
       "      <td>3930.0</td>\n",
       "      <td>14.340537</td>\n",
       "    </tr>\n",
       "    <tr>\n",
       "      <th>6</th>\n",
       "      <td>1966</td>\n",
       "      <td>13420.870930</td>\n",
       "      <td>3932.0</td>\n",
       "      <td>14.305202</td>\n",
       "    </tr>\n",
       "    <tr>\n",
       "      <th>7</th>\n",
       "      <td>1967</td>\n",
       "      <td>13774.912094</td>\n",
       "      <td>3934.0</td>\n",
       "      <td>14.508391</td>\n",
       "    </tr>\n",
       "    <tr>\n",
       "      <th>8</th>\n",
       "      <td>1968</td>\n",
       "      <td>14419.554844</td>\n",
       "      <td>3936.0</td>\n",
       "      <td>14.637909</td>\n",
       "    </tr>\n",
       "    <tr>\n",
       "      <th>9</th>\n",
       "      <td>1969</td>\n",
       "      <td>15257.565529</td>\n",
       "      <td>3938.0</td>\n",
       "      <td>15.346885</td>\n",
       "    </tr>\n",
       "  </tbody>\n",
       "</table>\n",
       "</div>"
      ],
      "text/plain": [
       "   Year  mt_CO2_global  kg_CO2_global  pc_CO2_average\n",
       "0  1960   11064.131248         3920.0       13.719937\n",
       "1  1961   11061.885846         3922.0       13.804837\n",
       "2  1962   11385.687956         3924.0       13.838856\n",
       "3  1963   11923.171792         3926.0       14.295206\n",
       "4  1964   12430.081615         3928.0       14.307196\n",
       "5  1965   12921.535815         3930.0       14.340537\n",
       "6  1966   13420.870930         3932.0       14.305202\n",
       "7  1967   13774.912094         3934.0       14.508391\n",
       "8  1968   14419.554844         3936.0       14.637909\n",
       "9  1969   15257.565529         3938.0       15.346885"
      ]
     },
     "execution_count": 624,
     "metadata": {},
     "output_type": "execute_result"
    }
   ],
   "source": [
    "emissions_combined.head(10)"
   ]
  },
  {
   "cell_type": "code",
   "execution_count": 627,
   "metadata": {},
   "outputs": [],
   "source": [
    "#Save the dataframe as csv\n",
    "emissions_combined.to_csv(\"emissions_CO2.csv\")"
   ]
  },
  {
   "cell_type": "code",
   "execution_count": 625,
   "metadata": {},
   "outputs": [
    {
     "data": {
      "text/html": [
       "<div>\n",
       "<style scoped>\n",
       "    .dataframe tbody tr th:only-of-type {\n",
       "        vertical-align: middle;\n",
       "    }\n",
       "\n",
       "    .dataframe tbody tr th {\n",
       "        vertical-align: top;\n",
       "    }\n",
       "\n",
       "    .dataframe thead th {\n",
       "        text-align: right;\n",
       "    }\n",
       "</style>\n",
       "<table border=\"1\" class=\"dataframe\">\n",
       "  <thead>\n",
       "    <tr style=\"text-align: right;\">\n",
       "      <th></th>\n",
       "      <th>Year</th>\n",
       "      <th>mt_CO2_global</th>\n",
       "      <th>kg_CO2_global</th>\n",
       "      <th>pc_CO2_average</th>\n",
       "      <th>Number_of_events</th>\n",
       "    </tr>\n",
       "  </thead>\n",
       "  <tbody>\n",
       "    <tr>\n",
       "      <th>0</th>\n",
       "      <td>1980</td>\n",
       "      <td>20928.866204</td>\n",
       "      <td>4054.845970</td>\n",
       "      <td>15.560998</td>\n",
       "      <td>20</td>\n",
       "    </tr>\n",
       "    <tr>\n",
       "      <th>1</th>\n",
       "      <td>1981</td>\n",
       "      <td>20439.839034</td>\n",
       "      <td>4053.400998</td>\n",
       "      <td>14.956099</td>\n",
       "      <td>14</td>\n",
       "    </tr>\n",
       "    <tr>\n",
       "      <th>2</th>\n",
       "      <td>1982</td>\n",
       "      <td>20341.079622</td>\n",
       "      <td>4056.926502</td>\n",
       "      <td>14.889520</td>\n",
       "      <td>15</td>\n",
       "    </tr>\n",
       "    <tr>\n",
       "      <th>3</th>\n",
       "      <td>1983</td>\n",
       "      <td>20530.671032</td>\n",
       "      <td>4050.300670</td>\n",
       "      <td>14.484301</td>\n",
       "      <td>15</td>\n",
       "    </tr>\n",
       "    <tr>\n",
       "      <th>4</th>\n",
       "      <td>1984</td>\n",
       "      <td>21080.674356</td>\n",
       "      <td>4062.019382</td>\n",
       "      <td>15.006519</td>\n",
       "      <td>15</td>\n",
       "    </tr>\n",
       "    <tr>\n",
       "      <th>5</th>\n",
       "      <td>1985</td>\n",
       "      <td>21768.494488</td>\n",
       "      <td>4068.839102</td>\n",
       "      <td>15.250024</td>\n",
       "      <td>10</td>\n",
       "    </tr>\n",
       "    <tr>\n",
       "      <th>6</th>\n",
       "      <td>1986</td>\n",
       "      <td>22035.509136</td>\n",
       "      <td>4054.344036</td>\n",
       "      <td>14.603545</td>\n",
       "      <td>24</td>\n",
       "    </tr>\n",
       "    <tr>\n",
       "      <th>7</th>\n",
       "      <td>1987</td>\n",
       "      <td>22739.156532</td>\n",
       "      <td>4056.015335</td>\n",
       "      <td>14.639604</td>\n",
       "      <td>9</td>\n",
       "    </tr>\n",
       "    <tr>\n",
       "      <th>8</th>\n",
       "      <td>1988</td>\n",
       "      <td>23536.523416</td>\n",
       "      <td>4057.716957</td>\n",
       "      <td>14.797980</td>\n",
       "      <td>14</td>\n",
       "    </tr>\n",
       "    <tr>\n",
       "      <th>9</th>\n",
       "      <td>1989</td>\n",
       "      <td>23866.218532</td>\n",
       "      <td>4062.961496</td>\n",
       "      <td>15.035768</td>\n",
       "      <td>16</td>\n",
       "    </tr>\n",
       "  </tbody>\n",
       "</table>\n",
       "</div>"
      ],
      "text/plain": [
       "   Year  mt_CO2_global  kg_CO2_global  pc_CO2_average  Number_of_events\n",
       "0  1980   20928.866204    4054.845970       15.560998                20\n",
       "1  1981   20439.839034    4053.400998       14.956099                14\n",
       "2  1982   20341.079622    4056.926502       14.889520                15\n",
       "3  1983   20530.671032    4050.300670       14.484301                15\n",
       "4  1984   21080.674356    4062.019382       15.006519                15\n",
       "5  1985   21768.494488    4068.839102       15.250024                10\n",
       "6  1986   22035.509136    4054.344036       14.603545                24\n",
       "7  1987   22739.156532    4056.015335       14.639604                 9\n",
       "8  1988   23536.523416    4057.716957       14.797980                14\n",
       "9  1989   23866.218532    4062.961496       15.035768                16"
      ]
     },
     "execution_count": 625,
     "metadata": {},
     "output_type": "execute_result"
    }
   ],
   "source": [
    "emissions_events= pd.merge(emissions_combined, events_year, on = \"Year\")\n",
    "emissions_events.head(10)"
   ]
  },
  {
   "cell_type": "code",
   "execution_count": 628,
   "metadata": {},
   "outputs": [],
   "source": [
    "#Save the dataframe as csv\n",
    "emissions_events.to_csv(\"emissions_events.csv\")"
   ]
  },
  {
   "cell_type": "code",
   "execution_count": 611,
   "metadata": {},
   "outputs": [
    {
     "data": {
      "image/png": "[encoded data removed]",
      "text/plain": [
       "<Figure size 432x288 with 1 Axes>"
      ]
     },
     "metadata": {},
     "output_type": "display_data"
    }
   ],
   "source": [
    "sns.scatterplot(x= \"mt_CO2_global\", y= \"Number_of_events\", data=emissions_events);"
   ]
  },
  {
   "cell_type": "code",
   "execution_count": 559,
   "metadata": {},
   "outputs": [
    {
     "data": {
      "image/png": "[encoded data removed]",
      "text/plain": [
       "<Figure size 432x288 with 1 Axes>"
      ]
     },
     "metadata": {
      "needs_background": "light"
     },
     "output_type": "display_data"
    }
   ],
   "source": [
    "sns.scatterplot(x= \"pc_CO2_average\" , y= \"mt_CO2_global\", data=emissions_events);"
   ]
  },
  {
   "cell_type": "code",
   "execution_count": 472,
   "metadata": {},
   "outputs": [],
   "source": [
    "emissions_mt[emissions_mt[\"Year\"]>=2000].transpose().reset_index();"
   ]
  },
  {
   "cell_type": "code",
   "execution_count": 449,
   "metadata": {},
   "outputs": [],
   "source": [
    "df_1= emissions_mt[emissions_mt[\"Year\"]>=2000].transpose()"
   ]
  },
  {
   "cell_type": "code",
   "execution_count": 450,
   "metadata": {},
   "outputs": [],
   "source": [
    "df_1.columns= [str(2000+i) for i in range(18)]"
   ]
  },
  {
   "cell_type": "code",
   "execution_count": 456,
   "metadata": {},
   "outputs": [],
   "source": [
    "df_1 = df_1.reset_index()"
   ]
  },
  {
   "cell_type": "code",
   "execution_count": 460,
   "metadata": {},
   "outputs": [],
   "source": [
    "df_1= df_1.drop(df_1.index[0])"
   ]
  },
  {
   "cell_type": "code",
   "execution_count": 465,
   "metadata": {},
   "outputs": [],
   "source": [
    "df_1.rename(columns={'Year':'Country'}, inplace=True)"
   ]
  },
  {
   "cell_type": "code",
   "execution_count": 466,
   "metadata": {},
   "outputs": [
    {
     "data": {
      "text/html": [
       "<div>\n",
       "<style scoped>\n",
       "    .dataframe tbody tr th:only-of-type {\n",
       "        vertical-align: middle;\n",
       "    }\n",
       "\n",
       "    .dataframe tbody tr th {\n",
       "        vertical-align: top;\n",
       "    }\n",
       "\n",
       "    .dataframe thead th {\n",
       "        text-align: right;\n",
       "    }\n",
       "</style>\n",
       "<table border=\"1\" class=\"dataframe\">\n",
       "  <thead>\n",
       "    <tr style=\"text-align: right;\">\n",
       "      <th></th>\n",
       "      <th>Country</th>\n",
       "      <th>2000</th>\n",
       "      <th>2001</th>\n",
       "      <th>2002</th>\n",
       "      <th>2003</th>\n",
       "      <th>2004</th>\n",
       "      <th>2005</th>\n",
       "      <th>2006</th>\n",
       "      <th>2007</th>\n",
       "      <th>2008</th>\n",
       "      <th>2009</th>\n",
       "      <th>2010</th>\n",
       "      <th>2011</th>\n",
       "      <th>2012</th>\n",
       "      <th>2013</th>\n",
       "      <th>2014</th>\n",
       "      <th>2015</th>\n",
       "      <th>2016</th>\n",
       "      <th>2017</th>\n",
       "    </tr>\n",
       "  </thead>\n",
       "  <tbody>\n",
       "    <tr>\n",
       "      <th>1</th>\n",
       "      <td>Afghanistan</td>\n",
       "      <td>0.76820</td>\n",
       "      <td>0.81207</td>\n",
       "      <td>1.06410</td>\n",
       "      <td>1.18710</td>\n",
       "      <td>0.94146</td>\n",
       "      <td>1.32030</td>\n",
       "      <td>1.64320</td>\n",
       "      <td>2.26830</td>\n",
       "      <td>4.19830</td>\n",
       "      <td>6.76030</td>\n",
       "      <td>8.45220</td>\n",
       "      <td>12.22600</td>\n",
       "      <td>10.74210</td>\n",
       "      <td>10.00040</td>\n",
       "      <td>9.78920</td>\n",
       "      <td>10.10740</td>\n",
       "      <td>12.25790</td>\n",
       "      <td>13.01470</td>\n",
       "    </tr>\n",
       "    <tr>\n",
       "      <th>2</th>\n",
       "      <td>Albania</td>\n",
       "      <td>3.01910</td>\n",
       "      <td>3.22070</td>\n",
       "      <td>3.74830</td>\n",
       "      <td>4.29050</td>\n",
       "      <td>4.16230</td>\n",
       "      <td>4.25020</td>\n",
       "      <td>3.89480</td>\n",
       "      <td>3.92410</td>\n",
       "      <td>4.37120</td>\n",
       "      <td>4.37480</td>\n",
       "      <td>4.59470</td>\n",
       "      <td>5.23590</td>\n",
       "      <td>4.90610</td>\n",
       "      <td>5.06000</td>\n",
       "      <td>5.71220</td>\n",
       "      <td>5.94770</td>\n",
       "      <td>6.27290</td>\n",
       "      <td>6.37920</td>\n",
       "    </tr>\n",
       "    <tr>\n",
       "      <th>3</th>\n",
       "      <td>Algeria</td>\n",
       "      <td>87.44270</td>\n",
       "      <td>83.78070</td>\n",
       "      <td>89.40670</td>\n",
       "      <td>91.04820</td>\n",
       "      <td>87.85310</td>\n",
       "      <td>106.47320</td>\n",
       "      <td>100.20120</td>\n",
       "      <td>108.40000</td>\n",
       "      <td>109.03180</td>\n",
       "      <td>120.18590</td>\n",
       "      <td>117.81410</td>\n",
       "      <td>119.80690</td>\n",
       "      <td>128.11000</td>\n",
       "      <td>132.43460</td>\n",
       "      <td>143.17710</td>\n",
       "      <td>150.59250</td>\n",
       "      <td>150.37800</td>\n",
       "      <td>150.55140</td>\n",
       "    </tr>\n",
       "    <tr>\n",
       "      <th>4</th>\n",
       "      <td>Andorra</td>\n",
       "      <td>0.52395</td>\n",
       "      <td>0.52395</td>\n",
       "      <td>0.53128</td>\n",
       "      <td>0.53494</td>\n",
       "      <td>0.56059</td>\n",
       "      <td>0.57525</td>\n",
       "      <td>0.54594</td>\n",
       "      <td>0.53861</td>\n",
       "      <td>0.53861</td>\n",
       "      <td>0.51662</td>\n",
       "      <td>0.51662</td>\n",
       "      <td>0.49098</td>\n",
       "      <td>0.48731</td>\n",
       "      <td>0.47632</td>\n",
       "      <td>0.46166</td>\n",
       "      <td>0.47724</td>\n",
       "      <td>0.51151</td>\n",
       "      <td>0.52018</td>\n",
       "    </tr>\n",
       "    <tr>\n",
       "      <th>5</th>\n",
       "      <td>Angola</td>\n",
       "      <td>9.51510</td>\n",
       "      <td>9.67150</td>\n",
       "      <td>12.59750</td>\n",
       "      <td>8.98840</td>\n",
       "      <td>18.70190</td>\n",
       "      <td>19.00640</td>\n",
       "      <td>22.10240</td>\n",
       "      <td>24.97610</td>\n",
       "      <td>25.48600</td>\n",
       "      <td>27.56550</td>\n",
       "      <td>28.86450</td>\n",
       "      <td>30.14210</td>\n",
       "      <td>33.18580</td>\n",
       "      <td>32.37310</td>\n",
       "      <td>34.45760</td>\n",
       "      <td>34.76110</td>\n",
       "      <td>35.35100</td>\n",
       "      <td>35.38990</td>\n",
       "    </tr>\n",
       "  </tbody>\n",
       "</table>\n",
       "</div>"
      ],
      "text/plain": [
       "       Country      2000      2001      2002      2003      2004       2005  \\\n",
       "1  Afghanistan   0.76820   0.81207   1.06410   1.18710   0.94146    1.32030   \n",
       "2      Albania   3.01910   3.22070   3.74830   4.29050   4.16230    4.25020   \n",
       "3      Algeria  87.44270  83.78070  89.40670  91.04820  87.85310  106.47320   \n",
       "4      Andorra   0.52395   0.52395   0.53128   0.53494   0.56059    0.57525   \n",
       "5       Angola   9.51510   9.67150  12.59750   8.98840  18.70190   19.00640   \n",
       "\n",
       "        2006       2007       2008       2009       2010       2011  \\\n",
       "1    1.64320    2.26830    4.19830    6.76030    8.45220   12.22600   \n",
       "2    3.89480    3.92410    4.37120    4.37480    4.59470    5.23590   \n",
       "3  100.20120  108.40000  109.03180  120.18590  117.81410  119.80690   \n",
       "4    0.54594    0.53861    0.53861    0.51662    0.51662    0.49098   \n",
       "5   22.10240   24.97610   25.48600   27.56550   28.86450   30.14210   \n",
       "\n",
       "        2012       2013       2014       2015       2016       2017  \n",
       "1   10.74210   10.00040    9.78920   10.10740   12.25790   13.01470  \n",
       "2    4.90610    5.06000    5.71220    5.94770    6.27290    6.37920  \n",
       "3  128.11000  132.43460  143.17710  150.59250  150.37800  150.55140  \n",
       "4    0.48731    0.47632    0.46166    0.47724    0.51151    0.52018  \n",
       "5   33.18580   32.37310   34.45760   34.76110   35.35100   35.38990  "
      ]
     },
     "execution_count": 466,
     "metadata": {},
     "output_type": "execute_result"
    }
   ],
   "source": [
    "df_1.head()"
   ]
  },
  {
   "cell_type": "code",
   "execution_count": 506,
   "metadata": {},
   "outputs": [],
   "source": [
    "def clean_data(data, n):\n",
    "    data0 = data[data[\"Year\"] >= n].transpose().reset_index()\n",
    "    data0 = data0.drop(data0.index[0])\n",
    "    a = 2017-n+1\n",
    "    data0.columns= [\"Country\"]+[str(n+i) for i in range(a)]\n",
    "    return data0\n",
    "    "
   ]
  },
  {
   "cell_type": "code",
   "execution_count": 508,
   "metadata": {},
   "outputs": [],
   "source": [
    "emissions_mt_2000 = clean_data(emissions_mt, 2000);\n",
    "emissions_mt_2000 = clean_data(emissions_mt, 2000);"
   ]
  },
  {
   "cell_type": "code",
   "execution_count": 527,
   "metadata": {},
   "outputs": [],
   "source": [
    "data_2017_country = clean_data(emissions_mt,2017)"
   ]
  },
  {
   "cell_type": "code",
   "execution_count": 529,
   "metadata": {},
   "outputs": [],
   "source": [
    "data_2017_country.columns= [\"Country\", \"emissions_mt\"]"
   ]
  },
  {
   "cell_type": "code",
   "execution_count": 532,
   "metadata": {},
   "outputs": [],
   "source": [
    "data_2017_country = pd.merge(data_2017_country, clean_data(emissions_kg, 2017), on = \"Country\")"
   ]
  },
  {
   "cell_type": "code",
   "execution_count": 533,
   "metadata": {},
   "outputs": [],
   "source": [
    "data_2017_country.columns= [\"Country\", \"emissions_mt\", \"emissions_kg\"]"
   ]
  },
  {
   "cell_type": "code",
   "execution_count": 534,
   "metadata": {},
   "outputs": [],
   "source": [
    "data_2017_country = pd.merge(data_2017_country, clean_data(emissions_pc, 2017), on = \"Country\")"
   ]
  },
  {
   "cell_type": "code",
   "execution_count": 535,
   "metadata": {},
   "outputs": [],
   "source": [
    "data_2017_country.columns= [\"Country\", \"emissions_mt\", \"emissions_kg\", \"emissions_per_capita\"]"
   ]
  },
  {
   "cell_type": "code",
   "execution_count": 536,
   "metadata": {},
   "outputs": [
    {
     "data": {
      "text/html": [
       "<div>\n",
       "<style scoped>\n",
       "    .dataframe tbody tr th:only-of-type {\n",
       "        vertical-align: middle;\n",
       "    }\n",
       "\n",
       "    .dataframe tbody tr th {\n",
       "        vertical-align: top;\n",
       "    }\n",
       "\n",
       "    .dataframe thead th {\n",
       "        text-align: right;\n",
       "    }\n",
       "</style>\n",
       "<table border=\"1\" class=\"dataframe\">\n",
       "  <thead>\n",
       "    <tr style=\"text-align: right;\">\n",
       "      <th></th>\n",
       "      <th>Country</th>\n",
       "      <th>emissions_mt</th>\n",
       "      <th>emissions_kg</th>\n",
       "      <th>emissions_per_capita</th>\n",
       "    </tr>\n",
       "  </thead>\n",
       "  <tbody>\n",
       "    <tr>\n",
       "      <th>0</th>\n",
       "      <td>Afghanistan</td>\n",
       "      <td>13.01470</td>\n",
       "      <td>0.000000</td>\n",
       "      <td>0.366301</td>\n",
       "    </tr>\n",
       "    <tr>\n",
       "      <th>1</th>\n",
       "      <td>Albania</td>\n",
       "      <td>6.37920</td>\n",
       "      <td>0.199077</td>\n",
       "      <td>2.177062</td>\n",
       "    </tr>\n",
       "    <tr>\n",
       "      <th>2</th>\n",
       "      <td>Algeria</td>\n",
       "      <td>150.55140</td>\n",
       "      <td>0.266563</td>\n",
       "      <td>3.643712</td>\n",
       "    </tr>\n",
       "    <tr>\n",
       "      <th>3</th>\n",
       "      <td>Andorra</td>\n",
       "      <td>0.52018</td>\n",
       "      <td>0.000000</td>\n",
       "      <td>6.758657</td>\n",
       "    </tr>\n",
       "    <tr>\n",
       "      <th>4</th>\n",
       "      <td>Angola</td>\n",
       "      <td>35.38990</td>\n",
       "      <td>0.208277</td>\n",
       "      <td>1.188211</td>\n",
       "    </tr>\n",
       "  </tbody>\n",
       "</table>\n",
       "</div>"
      ],
      "text/plain": [
       "       Country  emissions_mt  emissions_kg  emissions_per_capita\n",
       "0  Afghanistan      13.01470      0.000000              0.366301\n",
       "1      Albania       6.37920      0.199077              2.177062\n",
       "2      Algeria     150.55140      0.266563              3.643712\n",
       "3      Andorra       0.52018      0.000000              6.758657\n",
       "4       Angola      35.38990      0.208277              1.188211"
      ]
     },
     "execution_count": 536,
     "metadata": {},
     "output_type": "execute_result"
    }
   ],
   "source": [
    "data_2017_country.head()"
   ]
  },
  {
   "cell_type": "code",
   "execution_count": 538,
   "metadata": {},
   "outputs": [
    {
     "data": {
      "text/html": [
       "<div>\n",
       "<style scoped>\n",
       "    .dataframe tbody tr th:only-of-type {\n",
       "        vertical-align: middle;\n",
       "    }\n",
       "\n",
       "    .dataframe tbody tr th {\n",
       "        vertical-align: top;\n",
       "    }\n",
       "\n",
       "    .dataframe thead th {\n",
       "        text-align: right;\n",
       "    }\n",
       "</style>\n",
       "<table border=\"1\" class=\"dataframe\">\n",
       "  <thead>\n",
       "    <tr style=\"text-align: right;\">\n",
       "      <th></th>\n",
       "      <th>emissions_mt</th>\n",
       "      <th>emissions_kg</th>\n",
       "      <th>emissions_per_capita</th>\n",
       "    </tr>\n",
       "  </thead>\n",
       "  <tbody>\n",
       "    <tr>\n",
       "      <th>count</th>\n",
       "      <td>212.000000</td>\n",
       "      <td>212.000000</td>\n",
       "      <td>212.000000</td>\n",
       "    </tr>\n",
       "    <tr>\n",
       "      <th>mean</th>\n",
       "      <td>163.870270</td>\n",
       "      <td>0.171206</td>\n",
       "      <td>5.140073</td>\n",
       "    </tr>\n",
       "    <tr>\n",
       "      <th>std</th>\n",
       "      <td>797.721388</td>\n",
       "      <td>0.185137</td>\n",
       "      <td>6.584466</td>\n",
       "    </tr>\n",
       "    <tr>\n",
       "      <th>min</th>\n",
       "      <td>0.011696</td>\n",
       "      <td>0.000000</td>\n",
       "      <td>0.048705</td>\n",
       "    </tr>\n",
       "    <tr>\n",
       "      <th>25%</th>\n",
       "      <td>1.361725</td>\n",
       "      <td>0.000000</td>\n",
       "      <td>0.868869</td>\n",
       "    </tr>\n",
       "    <tr>\n",
       "      <th>50%</th>\n",
       "      <td>9.688750</td>\n",
       "      <td>0.139946</td>\n",
       "      <td>2.844043</td>\n",
       "    </tr>\n",
       "    <tr>\n",
       "      <th>75%</th>\n",
       "      <td>63.235250</td>\n",
       "      <td>0.260384</td>\n",
       "      <td>6.839280</td>\n",
       "    </tr>\n",
       "    <tr>\n",
       "      <th>max</th>\n",
       "      <td>9838.754000</td>\n",
       "      <td>1.113397</td>\n",
       "      <td>49.182616</td>\n",
       "    </tr>\n",
       "  </tbody>\n",
       "</table>\n",
       "</div>"
      ],
      "text/plain": [
       "       emissions_mt  emissions_kg  emissions_per_capita\n",
       "count    212.000000    212.000000            212.000000\n",
       "mean     163.870270      0.171206              5.140073\n",
       "std      797.721388      0.185137              6.584466\n",
       "min        0.011696      0.000000              0.048705\n",
       "25%        1.361725      0.000000              0.868869\n",
       "50%        9.688750      0.139946              2.844043\n",
       "75%       63.235250      0.260384              6.839280\n",
       "max     9838.754000      1.113397             49.182616"
      ]
     },
     "execution_count": 538,
     "metadata": {},
     "output_type": "execute_result"
    }
   ],
   "source": [
    "data_2017_country.describe()"
   ]
  },
  {
   "cell_type": "code",
   "execution_count": 629,
   "metadata": {},
   "outputs": [],
   "source": [
    "data_2017_country= data_2017_country.sort_values(\"emissions_mt\", ascending= False)"
   ]
  },
  {
   "cell_type": "code",
   "execution_count": 630,
   "metadata": {},
   "outputs": [],
   "source": [
    "data_2017_country.to_csv(\"emissions_CO2_2017.csv\")"
   ]
  },
  {
   "cell_type": "code",
   "execution_count": 596,
   "metadata": {},
   "outputs": [
    {
     "name": "stderr",
     "output_type": "stream",
     "text": [
      "/Users/Fabi/miniconda3/lib/python3.7/site-packages/numpy/core/_methods.py:140: RuntimeWarning: Degrees of freedom <= 0 for slice\n",
      "  keepdims=keepdims)\n",
      "/Users/Fabi/miniconda3/lib/python3.7/site-packages/numpy/core/_methods.py:132: RuntimeWarning: invalid value encountered in double_scalars\n",
      "  ret = ret.dtype.type(ret / rcount)\n"
     ]
    },
    {
     "data": {
      "image/png": "[encoded data removed]",
      "text/plain": [
       "<Figure size 700.75x540 with 12 Axes>"
      ]
     },
     "metadata": {
      "needs_background": "light"
     },
     "output_type": "display_data"
    }
   ],
   "source": [
    "sns.pairplot(data = data_2017_country.sort_values(\"emissions_mt\", ascending= False).head(10), hue = \"Country\");"
   ]
  },
  {
   "cell_type": "code",
   "execution_count": 576,
   "metadata": {},
   "outputs": [],
   "source": [
    "#sns.pairplot(data = data_2017_country[[\"Country\", \"emissions_per_capita\", \"emissions_mt\"]].sort_values(\"emissions_mt\", ascending= False).head(10), hue = \"Country\")"
   ]
  },
  {
   "cell_type": "code",
   "execution_count": 579,
   "metadata": {},
   "outputs": [],
   "source": [
    "top_10= data_2017_country[[\"Country\", \"emissions_per_capita\", \"emissions_mt\"]].sort_values(\"emissions_mt\", ascending= False).head(10)"
   ]
  },
  {
   "cell_type": "code",
   "execution_count": 621,
   "metadata": {},
   "outputs": [
    {
     "data": {
      "image/png": "[encoded data removed]",
      "text/plain": [
       "<Figure size 432x288 with 1 Axes>"
      ]
     },
     "metadata": {},
     "output_type": "display_data"
    }
   ],
   "source": [
    "sns.scatterplot(data= top_10, y= \"emissions_per_capita\", x = \"emissions_mt\", hue= \"Country\", size=\"emissions_mt\").legend(bbox_to_anchor=(1.04,1), loc=\"upper left\",frameon= False);"
   ]
  },
  {
   "cell_type": "code",
   "execution_count": 619,
   "metadata": {},
   "outputs": [
    {
     "data": {
      "image/png": "[encoded data removed]",
      "text/plain": [
       "<Figure size 432x288 with 1 Axes>"
      ]
     },
     "metadata": {},
     "output_type": "display_data"
    }
   ],
   "source": [
    "plot5= sns.scatterplot(data= emissions_events, y= \"mt_CO2_global\", x = \"Year\", size=\"mt_CO2_global\");"
   ]
  },
  {
   "cell_type": "code",
   "execution_count": null,
   "metadata": {},
   "outputs": [],
   "source": []
  }
 ],
 "metadata": {
  "kernelspec": {
   "display_name": "Python 3",
   "language": "python",
   "name": "python3"
  },
  "language_info": {
   "codemirror_mode": {
    "name": "ipython",
    "version": 3
   },
   "file_extension": ".py",
   "mimetype": "text/x-python",
   "name": "python",
   "nbconvert_exporter": "python",
   "pygments_lexer": "ipython3",
   "version": "3.7.3"
  }
 },
 "nbformat": 4,
 "nbformat_minor": 4
}
