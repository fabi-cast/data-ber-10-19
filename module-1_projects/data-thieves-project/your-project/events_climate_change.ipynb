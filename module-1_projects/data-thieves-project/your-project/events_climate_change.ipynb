{
 "cells": [
  {
   "cell_type": "markdown",
   "metadata": {},
   "source": [
    "# Natural Events and climate change"
   ]
  },
  {
   "cell_type": "markdown",
   "metadata": {},
   "source": [
    "In this project we will extract data from two sources:\n",
    "\n",
    "1. EONET API v.2.1\n",
    "\n",
    "2. Global carbon Atlas http://globalcarbonatlas.org/en/CO2-emissions"
   ]
  },
  {
   "cell_type": "markdown",
   "metadata": {},
   "source": [
    "## 1. Import Libraries"
   ]
  },
  {
   "cell_type": "code",
   "execution_count": 1,
   "metadata": {},
   "outputs": [],
   "source": [
    "import pandas as pd\n",
    "import numpy as np\n",
    "import re\n",
    "import math\n",
    "import requests\n",
    "import json\n",
    "import matplotlib\n",
    "from matplotlib import pyplot as plt\n",
    "%matplotlib inline\n",
    "import seaborn as sns\n",
    "from datetime import datetime"
   ]
  },
  {
   "cell_type": "markdown",
   "metadata": {},
   "source": [
    "The natural events in the EONET's API are divided in two primarily groups according with their status:\n",
    "\n",
    "* ```'status' = 'open'``` means the natural event has not ended.\n",
    "\n",
    "* ```'status' = 'closed'``` means the natural event has finished. When this happen we will have as well an aditional field labeled as closed."
   ]
  },
  {
   "cell_type": "markdown",
   "metadata": {},
   "source": [
    "## 2. Data extraction and wrangling\n",
    "\n",
    "### Extracting data from the EONET's API"
   ]
  },
  {
   "cell_type": "code",
   "execution_count": 2,
   "metadata": {},
   "outputs": [],
   "source": [
    "#For extracting the category of each natural event\n",
    "\n",
    "def extract_cat(lista):\n",
    "    \"\"\"\n",
    "    Takes a list of dictionaries and return the value of the first element\n",
    "    of the list for the key 'title'\n",
    "    \"\"\"\n",
    "    return lista[0][\"title\"]\n",
    "\n",
    "# Extracts the date of each natural event\n",
    "def extract_date(lista):\n",
    "    \"\"\"\n",
    "    Takes a list of dictionaries and return the value of the first element\n",
    "    of the list for the key 'date'\n",
    "    \"\"\"\n",
    "    return lista[0][\"date\"]\n",
    "\n",
    "# Extracts the type of Geojson coordinates of each natural event\n",
    "\n",
    "def extract_geom(lista):\n",
    "    \"\"\"\n",
    "    Takes a list of dictionaries and removes the key 'date' for the first \n",
    "    dictionary\n",
    "    \"\"\"\n",
    "    del lista[0][\"date\"]\n",
    "    return lista[0]\n",
    "    \n",
    "base = \"https://eonet.sci.gsfc.nasa.gov/api/v2.1/events?status=\" \n",
    "\n",
    "def get_events(st):\n",
    "    \n",
    "    \"\"\"\n",
    "    Arguments: \"open\" or \"closed\"\n",
    "    Returns a the data set of the events with status \"st\" \n",
    "    which happened since 1980-01-10 until teh current date.\n",
    "    \n",
    "    \"\"\"\n",
    "    url = base + f\"{st}\"\n",
    "    result = requests.get(url)\n",
    "    \n",
    "    df_0 = pd.DataFrame(result.json()[\"events\"], columns = [\"id\", \"title\", \"categories\", \"description\", \"sources\", \"geometries\", \"closed\"])\n",
    "    df_0.categories = df_0.categories.apply(extract_cat) # Extract category from the original dictionary\n",
    "    df_0[\"date\"] = df_0.geometries.apply(extract_date)\n",
    "    df_0[\"geometries\"] = df_0.geometries.apply(extract_geom)\n",
    "    df_0 = df_0.drop(columns = [\"sources\"])\n",
    "    return df_0[['id', 'title', 'categories', 'description', 'date', 'closed','geometries']]\n"
   ]
  },
  {
   "cell_type": "code",
   "execution_count": 3,
   "metadata": {},
   "outputs": [],
   "source": [
    "df_op = get_events(\"open\")\n",
    "df_cl = get_events(\"closed\")"
   ]
  },
  {
   "cell_type": "markdown",
   "metadata": {},
   "source": [
    "Let us explore our data frames:"
   ]
  },
  {
   "cell_type": "code",
   "execution_count": 4,
   "metadata": {},
   "outputs": [
    {
     "data": {
      "text/html": [
       "<div>\n",
       "<style scoped>\n",
       "    .dataframe tbody tr th:only-of-type {\n",
       "        vertical-align: middle;\n",
       "    }\n",
       "\n",
       "    .dataframe tbody tr th {\n",
       "        vertical-align: top;\n",
       "    }\n",
       "\n",
       "    .dataframe thead th {\n",
       "        text-align: right;\n",
       "    }\n",
       "</style>\n",
       "<table border=\"1\" class=\"dataframe\">\n",
       "  <thead>\n",
       "    <tr style=\"text-align: right;\">\n",
       "      <th></th>\n",
       "      <th>id</th>\n",
       "      <th>title</th>\n",
       "      <th>categories</th>\n",
       "      <th>description</th>\n",
       "      <th>date</th>\n",
       "      <th>closed</th>\n",
       "      <th>geometries</th>\n",
       "    </tr>\n",
       "  </thead>\n",
       "  <tbody>\n",
       "    <tr>\n",
       "      <th>0</th>\n",
       "      <td>EONET_4493</td>\n",
       "      <td>Wildfires - Ventura County (Maria Fire), Calif...</td>\n",
       "      <td>Wildfires</td>\n",
       "      <td></td>\n",
       "      <td>2019-11-01T11:39:00Z</td>\n",
       "      <td>NaN</td>\n",
       "      <td>{'type': 'Point', 'coordinates': [-119.0570350...</td>\n",
       "    </tr>\n",
       "    <tr>\n",
       "      <th>1</th>\n",
       "      <td>EONET_4492</td>\n",
       "      <td>Wildfires - Riverside County (46 Fire), Califo...</td>\n",
       "      <td>Wildfires</td>\n",
       "      <td></td>\n",
       "      <td>2019-10-31T13:39:00Z</td>\n",
       "      <td>NaN</td>\n",
       "      <td>{'type': 'Point', 'coordinates': [-117.41411, ...</td>\n",
       "    </tr>\n",
       "    <tr>\n",
       "      <th>2</th>\n",
       "      <td>EONET_4488</td>\n",
       "      <td>Wildfires - Riverside County  (Hill Fire), Cal...</td>\n",
       "      <td>Wildfires</td>\n",
       "      <td></td>\n",
       "      <td>2019-10-30T16:02:00Z</td>\n",
       "      <td>NaN</td>\n",
       "      <td>{'type': 'Point', 'coordinates': [-117.46421, ...</td>\n",
       "    </tr>\n",
       "    <tr>\n",
       "      <th>3</th>\n",
       "      <td>EONET_4487</td>\n",
       "      <td>Wildfires - Ventura County (Easy Fire), Califo...</td>\n",
       "      <td>Wildfires</td>\n",
       "      <td></td>\n",
       "      <td>2019-10-30T13:23:00Z</td>\n",
       "      <td>NaN</td>\n",
       "      <td>{'type': 'Point', 'coordinates': [-118.8304898...</td>\n",
       "    </tr>\n",
       "    <tr>\n",
       "      <th>4</th>\n",
       "      <td>EONET_4485</td>\n",
       "      <td>Tropical Cyclone Maha</td>\n",
       "      <td>Severe Storms</td>\n",
       "      <td></td>\n",
       "      <td>2019-10-30T08:46:01Z</td>\n",
       "      <td>NaN</td>\n",
       "      <td>{'type': 'Point', 'coordinates': [74.8, 8.8]}</td>\n",
       "    </tr>\n",
       "  </tbody>\n",
       "</table>\n",
       "</div>"
      ],
      "text/plain": [
       "           id                                              title  \\\n",
       "0  EONET_4493  Wildfires - Ventura County (Maria Fire), Calif...   \n",
       "1  EONET_4492  Wildfires - Riverside County (46 Fire), Califo...   \n",
       "2  EONET_4488  Wildfires - Riverside County  (Hill Fire), Cal...   \n",
       "3  EONET_4487  Wildfires - Ventura County (Easy Fire), Califo...   \n",
       "4  EONET_4485                              Tropical Cyclone Maha   \n",
       "\n",
       "      categories description                  date  closed  \\\n",
       "0      Wildfires              2019-11-01T11:39:00Z     NaN   \n",
       "1      Wildfires              2019-10-31T13:39:00Z     NaN   \n",
       "2      Wildfires              2019-10-30T16:02:00Z     NaN   \n",
       "3      Wildfires              2019-10-30T13:23:00Z     NaN   \n",
       "4  Severe Storms              2019-10-30T08:46:01Z     NaN   \n",
       "\n",
       "                                          geometries  \n",
       "0  {'type': 'Point', 'coordinates': [-119.0570350...  \n",
       "1  {'type': 'Point', 'coordinates': [-117.41411, ...  \n",
       "2  {'type': 'Point', 'coordinates': [-117.46421, ...  \n",
       "3  {'type': 'Point', 'coordinates': [-118.8304898...  \n",
       "4      {'type': 'Point', 'coordinates': [74.8, 8.8]}  "
      ]
     },
     "execution_count": 4,
     "metadata": {},
     "output_type": "execute_result"
    }
   ],
   "source": [
    "df_op.head()"
   ]
  },
  {
   "cell_type": "code",
   "execution_count": 5,
   "metadata": {},
   "outputs": [
    {
     "data": {
      "text/html": [
       "<div>\n",
       "<style scoped>\n",
       "    .dataframe tbody tr th:only-of-type {\n",
       "        vertical-align: middle;\n",
       "    }\n",
       "\n",
       "    .dataframe tbody tr th {\n",
       "        vertical-align: top;\n",
       "    }\n",
       "\n",
       "    .dataframe thead th {\n",
       "        text-align: right;\n",
       "    }\n",
       "</style>\n",
       "<table border=\"1\" class=\"dataframe\">\n",
       "  <thead>\n",
       "    <tr style=\"text-align: right;\">\n",
       "      <th></th>\n",
       "      <th>id</th>\n",
       "      <th>title</th>\n",
       "      <th>categories</th>\n",
       "      <th>description</th>\n",
       "      <th>date</th>\n",
       "      <th>closed</th>\n",
       "      <th>geometries</th>\n",
       "    </tr>\n",
       "  </thead>\n",
       "  <tbody>\n",
       "    <tr>\n",
       "      <th>0</th>\n",
       "      <td>EONET_4486</td>\n",
       "      <td>Subtropical Storm Rebekah</td>\n",
       "      <td>Severe Storms</td>\n",
       "      <td></td>\n",
       "      <td>2019-10-30T00:00:00Z</td>\n",
       "      <td>2019-11-01T00:00:00Z</td>\n",
       "      <td>{'type': 'Point', 'coordinates': [-40.7, 38.3]}</td>\n",
       "    </tr>\n",
       "    <tr>\n",
       "      <th>1</th>\n",
       "      <td>EONET_4464</td>\n",
       "      <td>Typhoon Bualoi</td>\n",
       "      <td>Severe Storms</td>\n",
       "      <td></td>\n",
       "      <td>2019-10-19T00:00:00Z</td>\n",
       "      <td>2019-10-30T00:00:00Z</td>\n",
       "      <td>{'type': 'Point', 'coordinates': [155.1, 10.6]}</td>\n",
       "    </tr>\n",
       "    <tr>\n",
       "      <th>2</th>\n",
       "      <td>EONET_4463</td>\n",
       "      <td>Tropical Storm Neoguri</td>\n",
       "      <td>Severe Storms</td>\n",
       "      <td></td>\n",
       "      <td>2019-10-17T00:00:00Z</td>\n",
       "      <td>2019-10-27T00:00:00Z</td>\n",
       "      <td>{'type': 'Point', 'coordinates': [129.9, 19.6]}</td>\n",
       "    </tr>\n",
       "    <tr>\n",
       "      <th>3</th>\n",
       "      <td>EONET_4465</td>\n",
       "      <td>Tropical Storm Nestor</td>\n",
       "      <td>Severe Storms</td>\n",
       "      <td></td>\n",
       "      <td>2019-10-17T00:00:00Z</td>\n",
       "      <td>2019-10-20T00:00:00Z</td>\n",
       "      <td>{'type': 'Point', 'coordinates': [-95.2, 22.9]}</td>\n",
       "    </tr>\n",
       "    <tr>\n",
       "      <th>4</th>\n",
       "      <td>EONET_4459</td>\n",
       "      <td>Tropical Cyclone Ema</td>\n",
       "      <td>Severe Storms</td>\n",
       "      <td></td>\n",
       "      <td>2019-10-12T00:00:00Z</td>\n",
       "      <td>2019-10-19T00:00:00Z</td>\n",
       "      <td>{'type': 'Point', 'coordinates': [-163.3, 19.6]}</td>\n",
       "    </tr>\n",
       "  </tbody>\n",
       "</table>\n",
       "</div>"
      ],
      "text/plain": [
       "           id                      title     categories description  \\\n",
       "0  EONET_4486  Subtropical Storm Rebekah  Severe Storms               \n",
       "1  EONET_4464             Typhoon Bualoi  Severe Storms               \n",
       "2  EONET_4463     Tropical Storm Neoguri  Severe Storms               \n",
       "3  EONET_4465      Tropical Storm Nestor  Severe Storms               \n",
       "4  EONET_4459       Tropical Cyclone Ema  Severe Storms               \n",
       "\n",
       "                   date                closed  \\\n",
       "0  2019-10-30T00:00:00Z  2019-11-01T00:00:00Z   \n",
       "1  2019-10-19T00:00:00Z  2019-10-30T00:00:00Z   \n",
       "2  2019-10-17T00:00:00Z  2019-10-27T00:00:00Z   \n",
       "3  2019-10-17T00:00:00Z  2019-10-20T00:00:00Z   \n",
       "4  2019-10-12T00:00:00Z  2019-10-19T00:00:00Z   \n",
       "\n",
       "                                         geometries  \n",
       "0   {'type': 'Point', 'coordinates': [-40.7, 38.3]}  \n",
       "1   {'type': 'Point', 'coordinates': [155.1, 10.6]}  \n",
       "2   {'type': 'Point', 'coordinates': [129.9, 19.6]}  \n",
       "3   {'type': 'Point', 'coordinates': [-95.2, 22.9]}  \n",
       "4  {'type': 'Point', 'coordinates': [-163.3, 19.6]}  "
      ]
     },
     "execution_count": 5,
     "metadata": {},
     "output_type": "execute_result"
    }
   ],
   "source": [
    "df_cl.head()"
   ]
  },
  {
   "cell_type": "code",
   "execution_count": 6,
   "metadata": {},
   "outputs": [
    {
     "data": {
      "text/plain": [
       "id              object\n",
       "title           object\n",
       "categories      object\n",
       "description     object\n",
       "date            object\n",
       "closed         float64\n",
       "geometries      object\n",
       "dtype: object"
      ]
     },
     "execution_count": 6,
     "metadata": {},
     "output_type": "execute_result"
    }
   ],
   "source": [
    "df_op.dtypes"
   ]
  },
  {
   "cell_type": "markdown",
   "metadata": {},
   "source": [
    "#### Data wrangling \n",
    "\n",
    "**1. Concat data frames:** We want to concatenate both dataframes extracted above. In this way, we obtain all the information of closed and open events:"
   ]
  },
  {
   "cell_type": "code",
   "execution_count": 7,
   "metadata": {},
   "outputs": [
    {
     "data": {
      "text/plain": [
       "id             object\n",
       "title          object\n",
       "categories     object\n",
       "description    object\n",
       "date           object\n",
       "closed         object\n",
       "geometries     object\n",
       "dtype: object"
      ]
     },
     "execution_count": 7,
     "metadata": {},
     "output_type": "execute_result"
    }
   ],
   "source": [
    "df_ev = (pd\n",
    "        .concat([df_op, df_cl], ignore_index=True)\n",
    "        .sort_values(\"date\", ascending = False)\n",
    "        .reset_index(drop=True))\n",
    "\n",
    "df_ev.dtypes"
   ]
  },
  {
   "cell_type": "markdown",
   "metadata": {},
   "source": [
    "**2. Formating data types:** The columns ```'date'``` and ```'closed'``` have no suitable data type. We should correct this field. According with the documentation, most of the fields have Universal Time (UTC) as indicated by the letter Z. with this in mind, we will reformat these fields to YYYY-MM-DD:"
   ]
  },
  {
   "cell_type": "code",
   "execution_count": 8,
   "metadata": {},
   "outputs": [],
   "source": [
    "df_ev[\"date\"]= pd.to_datetime(df_ev['date'],infer_datetime_format = True).dt.date\n",
    "df_ev[\"closed\"]= pd.to_datetime(df_ev['closed'],infer_datetime_format = True).dt.date"
   ]
  },
  {
   "cell_type": "code",
   "execution_count": 9,
   "metadata": {},
   "outputs": [],
   "source": [
    "df_ev[\"date\"]= pd.to_datetime(df_ev['date'],infer_datetime_format = True)\n",
    "df_ev[\"closed\"]= pd.to_datetime(df_ev['closed'],infer_datetime_format = True)"
   ]
  },
  {
   "cell_type": "code",
   "execution_count": 10,
   "metadata": {},
   "outputs": [
    {
     "data": {
      "text/plain": [
       "id                     object\n",
       "title                  object\n",
       "categories             object\n",
       "description            object\n",
       "date           datetime64[ns]\n",
       "closed         datetime64[ns]\n",
       "geometries             object\n",
       "dtype: object"
      ]
     },
     "execution_count": 10,
     "metadata": {},
     "output_type": "execute_result"
    }
   ],
   "source": [
    "df_ev.dtypes"
   ]
  },
  {
   "cell_type": "markdown",
   "metadata": {},
   "source": [
    "**3.Dropping and converting columns to boolean:** We have very little information in the ```'description'``` field (< 4%). Also, in order to do our analysis, this column in not relevant:"
   ]
  },
  {
   "cell_type": "code",
   "execution_count": 11,
   "metadata": {},
   "outputs": [
    {
     "data": {
      "text/plain": [
       "0.03970621987606151"
      ]
     },
     "execution_count": 11,
     "metadata": {},
     "output_type": "execute_result"
    }
   ],
   "source": [
    "len(df_ev[df_ev[\"description\"] != \"\"]) / len(df_ev)"
   ]
  },
  {
   "cell_type": "code",
   "execution_count": 12,
   "metadata": {},
   "outputs": [],
   "source": [
    "df_ev = df_ev.drop(columns = \"description\")"
   ]
  },
  {
   "cell_type": "markdown",
   "metadata": {},
   "source": [
    "We now that the column ```'closed'``` only contains a date if the event is over. We will condense this information in an extra column with boolean values:"
   ]
  },
  {
   "cell_type": "code",
   "execution_count": 13,
   "metadata": {},
   "outputs": [],
   "source": [
    "#Create a new column containing the date of end of the event\n",
    "\n",
    "df_ev[\"date_closed\"] = df_ev[\"closed\"]\n",
    "\n",
    "# Replace the column closed by a boolean column\n",
    "\n",
    "df_ev[\"closed\"] = (df_ev[\"date_closed\"].notna())"
   ]
  },
  {
   "cell_type": "code",
   "execution_count": 14,
   "metadata": {},
   "outputs": [],
   "source": [
    "#Rearranging the columns\n",
    "\n",
    "df_ev = df_ev[['id', 'title', 'categories', 'date', 'closed', 'date_closed', 'geometries']]"
   ]
  },
  {
   "cell_type": "markdown",
   "metadata": {},
   "source": [
    "Now our data set looks like:"
   ]
  },
  {
   "cell_type": "code",
   "execution_count": 15,
   "metadata": {},
   "outputs": [
    {
     "data": {
      "text/html": [
       "<div>\n",
       "<style scoped>\n",
       "    .dataframe tbody tr th:only-of-type {\n",
       "        vertical-align: middle;\n",
       "    }\n",
       "\n",
       "    .dataframe tbody tr th {\n",
       "        vertical-align: top;\n",
       "    }\n",
       "\n",
       "    .dataframe thead th {\n",
       "        text-align: right;\n",
       "    }\n",
       "</style>\n",
       "<table border=\"1\" class=\"dataframe\">\n",
       "  <thead>\n",
       "    <tr style=\"text-align: right;\">\n",
       "      <th></th>\n",
       "      <th>id</th>\n",
       "      <th>title</th>\n",
       "      <th>categories</th>\n",
       "      <th>date</th>\n",
       "      <th>closed</th>\n",
       "      <th>date_closed</th>\n",
       "      <th>geometries</th>\n",
       "    </tr>\n",
       "  </thead>\n",
       "  <tbody>\n",
       "    <tr>\n",
       "      <th>0</th>\n",
       "      <td>EONET_4493</td>\n",
       "      <td>Wildfires - Ventura County (Maria Fire), Calif...</td>\n",
       "      <td>Wildfires</td>\n",
       "      <td>2019-11-01</td>\n",
       "      <td>False</td>\n",
       "      <td>NaT</td>\n",
       "      <td>{'type': 'Point', 'coordinates': [-119.0570350...</td>\n",
       "    </tr>\n",
       "    <tr>\n",
       "      <th>1</th>\n",
       "      <td>EONET_4492</td>\n",
       "      <td>Wildfires - Riverside County (46 Fire), Califo...</td>\n",
       "      <td>Wildfires</td>\n",
       "      <td>2019-10-31</td>\n",
       "      <td>False</td>\n",
       "      <td>NaT</td>\n",
       "      <td>{'type': 'Point', 'coordinates': [-117.41411, ...</td>\n",
       "    </tr>\n",
       "    <tr>\n",
       "      <th>2</th>\n",
       "      <td>EONET_4488</td>\n",
       "      <td>Wildfires - Riverside County  (Hill Fire), Cal...</td>\n",
       "      <td>Wildfires</td>\n",
       "      <td>2019-10-30</td>\n",
       "      <td>False</td>\n",
       "      <td>NaT</td>\n",
       "      <td>{'type': 'Point', 'coordinates': [-117.46421, ...</td>\n",
       "    </tr>\n",
       "    <tr>\n",
       "      <th>3</th>\n",
       "      <td>EONET_4487</td>\n",
       "      <td>Wildfires - Ventura County (Easy Fire), Califo...</td>\n",
       "      <td>Wildfires</td>\n",
       "      <td>2019-10-30</td>\n",
       "      <td>False</td>\n",
       "      <td>NaT</td>\n",
       "      <td>{'type': 'Point', 'coordinates': [-118.8304898...</td>\n",
       "    </tr>\n",
       "    <tr>\n",
       "      <th>4</th>\n",
       "      <td>EONET_4485</td>\n",
       "      <td>Tropical Cyclone Maha</td>\n",
       "      <td>Severe Storms</td>\n",
       "      <td>2019-10-30</td>\n",
       "      <td>False</td>\n",
       "      <td>NaT</td>\n",
       "      <td>{'type': 'Point', 'coordinates': [74.8, 8.8]}</td>\n",
       "    </tr>\n",
       "  </tbody>\n",
       "</table>\n",
       "</div>"
      ],
      "text/plain": [
       "           id                                              title  \\\n",
       "0  EONET_4493  Wildfires - Ventura County (Maria Fire), Calif...   \n",
       "1  EONET_4492  Wildfires - Riverside County (46 Fire), Califo...   \n",
       "2  EONET_4488  Wildfires - Riverside County  (Hill Fire), Cal...   \n",
       "3  EONET_4487  Wildfires - Ventura County (Easy Fire), Califo...   \n",
       "4  EONET_4485                              Tropical Cyclone Maha   \n",
       "\n",
       "      categories       date  closed date_closed  \\\n",
       "0      Wildfires 2019-11-01   False         NaT   \n",
       "1      Wildfires 2019-10-31   False         NaT   \n",
       "2      Wildfires 2019-10-30   False         NaT   \n",
       "3      Wildfires 2019-10-30   False         NaT   \n",
       "4  Severe Storms 2019-10-30   False         NaT   \n",
       "\n",
       "                                          geometries  \n",
       "0  {'type': 'Point', 'coordinates': [-119.0570350...  \n",
       "1  {'type': 'Point', 'coordinates': [-117.41411, ...  \n",
       "2  {'type': 'Point', 'coordinates': [-117.46421, ...  \n",
       "3  {'type': 'Point', 'coordinates': [-118.8304898...  \n",
       "4      {'type': 'Point', 'coordinates': [74.8, 8.8]}  "
      ]
     },
     "execution_count": 15,
     "metadata": {},
     "output_type": "execute_result"
    }
   ],
   "source": [
    "df_ev.head()"
   ]
  },
  {
   "cell_type": "code",
   "execution_count": 16,
   "metadata": {},
   "outputs": [
    {
     "data": {
      "text/plain": [
       "id                     object\n",
       "title                  object\n",
       "categories             object\n",
       "date           datetime64[ns]\n",
       "closed                   bool\n",
       "date_closed    datetime64[ns]\n",
       "geometries             object\n",
       "dtype: object"
      ]
     },
     "execution_count": 16,
     "metadata": {},
     "output_type": "execute_result"
    }
   ],
   "source": [
    "df_ev.dtypes"
   ]
  },
  {
   "cell_type": "markdown",
   "metadata": {},
   "source": [
    "**4. Exporting dataframe:** Now we export the data in a csv file:"
   ]
  },
  {
   "cell_type": "code",
   "execution_count": 17,
   "metadata": {},
   "outputs": [],
   "source": [
    "df_ev.to_csv(\"data/natural_events.csv\")"
   ]
  },
  {
   "cell_type": "markdown",
   "metadata": {},
   "source": [
    "### Collecting data about CO$_2$ emissions"
   ]
  },
  {
   "cell_type": "markdown",
   "metadata": {},
   "source": [
    "Here we access data in excel files. The data is available at http://globalcarbonatlas.org/en/CO2-emissions\n",
    "\n",
    "We obtain data of **territorial CO$_2$ emissions**, this means Carbon dioxide emissions attributed to the country in which they physically occur."
   ]
  },
  {
   "cell_type": "markdown",
   "metadata": {},
   "source": [
    "#### a. CO2 Emissions per country in Million tones\n",
    "\n",
    "MtCO2 = 1 million tonnes of CO2\n",
    "To convert between carbon dioxide (CO2) and carbon (C): 3.67 Mt CO2 = 1 Mt C."
   ]
  },
  {
   "cell_type": "code",
   "execution_count": 18,
   "metadata": {},
   "outputs": [],
   "source": [
    "emissions_mt = pd.read_excel(\"data/emissions_mtco2.xlsx\")"
   ]
  },
  {
   "cell_type": "code",
   "execution_count": 19,
   "metadata": {},
   "outputs": [
    {
     "data": {
      "text/html": [
       "<div>\n",
       "<style scoped>\n",
       "    .dataframe tbody tr th:only-of-type {\n",
       "        vertical-align: middle;\n",
       "    }\n",
       "\n",
       "    .dataframe tbody tr th {\n",
       "        vertical-align: top;\n",
       "    }\n",
       "\n",
       "    .dataframe thead th {\n",
       "        text-align: right;\n",
       "    }\n",
       "</style>\n",
       "<table border=\"1\" class=\"dataframe\">\n",
       "  <thead>\n",
       "    <tr style=\"text-align: right;\">\n",
       "      <th></th>\n",
       "      <th>Year</th>\n",
       "      <th>Afghanistan</th>\n",
       "      <th>Albania</th>\n",
       "      <th>Algeria</th>\n",
       "      <th>Andorra</th>\n",
       "      <th>Angola</th>\n",
       "      <th>Anguilla</th>\n",
       "      <th>Antigua and Barbuda</th>\n",
       "      <th>Argentina</th>\n",
       "      <th>Armenia</th>\n",
       "      <th>...</th>\n",
       "      <th>Uruguay</th>\n",
       "      <th>Uzbekistan</th>\n",
       "      <th>Vanuatu</th>\n",
       "      <th>Venezuela</th>\n",
       "      <th>Vietnam</th>\n",
       "      <th>Wallis and Futuna Islands</th>\n",
       "      <th>Western Sahara</th>\n",
       "      <th>Yemen</th>\n",
       "      <th>Zambia</th>\n",
       "      <th>Zimbabwe</th>\n",
       "    </tr>\n",
       "  </thead>\n",
       "  <tbody>\n",
       "    <tr>\n",
       "      <th>0</th>\n",
       "      <td>1960</td>\n",
       "      <td>0.41388</td>\n",
       "      <td>2.0225</td>\n",
       "      <td>6.1512</td>\n",
       "      <td>NaN</td>\n",
       "      <td>0.54895</td>\n",
       "      <td>NaN</td>\n",
       "      <td>0.036640</td>\n",
       "      <td>48.7645</td>\n",
       "      <td>2.4936</td>\n",
       "      <td>...</td>\n",
       "      <td>4.3145</td>\n",
       "      <td>47.8515</td>\n",
       "      <td>NaN</td>\n",
       "      <td>57.0168</td>\n",
       "      <td>7.4839</td>\n",
       "      <td>NaN</td>\n",
       "      <td>NaN</td>\n",
       "      <td>3.6310</td>\n",
       "      <td>4.3552</td>\n",
       "      <td>5.9432</td>\n",
       "    </tr>\n",
       "    <tr>\n",
       "      <th>1</th>\n",
       "      <td>1961</td>\n",
       "      <td>0.49080</td>\n",
       "      <td>2.2790</td>\n",
       "      <td>6.0559</td>\n",
       "      <td>NaN</td>\n",
       "      <td>0.45371</td>\n",
       "      <td>NaN</td>\n",
       "      <td>0.047632</td>\n",
       "      <td>51.1267</td>\n",
       "      <td>2.5714</td>\n",
       "      <td>...</td>\n",
       "      <td>4.1168</td>\n",
       "      <td>49.3462</td>\n",
       "      <td>NaN</td>\n",
       "      <td>51.8798</td>\n",
       "      <td>7.9783</td>\n",
       "      <td>NaN</td>\n",
       "      <td>NaN</td>\n",
       "      <td>2.6637</td>\n",
       "      <td>3.7090</td>\n",
       "      <td>5.0613</td>\n",
       "    </tr>\n",
       "    <tr>\n",
       "      <th>2</th>\n",
       "      <td>1962</td>\n",
       "      <td>0.68859</td>\n",
       "      <td>2.4622</td>\n",
       "      <td>5.6610</td>\n",
       "      <td>NaN</td>\n",
       "      <td>1.17910</td>\n",
       "      <td>NaN</td>\n",
       "      <td>0.102590</td>\n",
       "      <td>53.6401</td>\n",
       "      <td>2.6987</td>\n",
       "      <td>...</td>\n",
       "      <td>4.0069</td>\n",
       "      <td>51.7895</td>\n",
       "      <td>0.040304</td>\n",
       "      <td>54.0561</td>\n",
       "      <td>9.3377</td>\n",
       "      <td>NaN</td>\n",
       "      <td>NaN</td>\n",
       "      <td>3.8838</td>\n",
       "      <td>3.5827</td>\n",
       "      <td>4.8890</td>\n",
       "    </tr>\n",
       "    <tr>\n",
       "      <th>3</th>\n",
       "      <td>1963</td>\n",
       "      <td>0.70674</td>\n",
       "      <td>2.0812</td>\n",
       "      <td>5.4192</td>\n",
       "      <td>NaN</td>\n",
       "      <td>1.14970</td>\n",
       "      <td>NaN</td>\n",
       "      <td>0.084272</td>\n",
       "      <td>50.0327</td>\n",
       "      <td>2.8942</td>\n",
       "      <td>...</td>\n",
       "      <td>4.3148</td>\n",
       "      <td>55.5408</td>\n",
       "      <td>0.032976</td>\n",
       "      <td>56.1517</td>\n",
       "      <td>9.1104</td>\n",
       "      <td>NaN</td>\n",
       "      <td>NaN</td>\n",
       "      <td>2.9165</td>\n",
       "      <td>3.4445</td>\n",
       "      <td>4.7004</td>\n",
       "    </tr>\n",
       "    <tr>\n",
       "      <th>4</th>\n",
       "      <td>1964</td>\n",
       "      <td>0.83855</td>\n",
       "      <td>2.0152</td>\n",
       "      <td>5.6430</td>\n",
       "      <td>NaN</td>\n",
       "      <td>1.22290</td>\n",
       "      <td>NaN</td>\n",
       "      <td>0.091600</td>\n",
       "      <td>55.6700</td>\n",
       "      <td>3.0780</td>\n",
       "      <td>...</td>\n",
       "      <td>4.5527</td>\n",
       "      <td>59.0674</td>\n",
       "      <td>0.062288</td>\n",
       "      <td>56.5500</td>\n",
       "      <td>11.7878</td>\n",
       "      <td>NaN</td>\n",
       "      <td>NaN</td>\n",
       "      <td>3.6310</td>\n",
       "      <td>3.2750</td>\n",
       "      <td>4.4691</td>\n",
       "    </tr>\n",
       "  </tbody>\n",
       "</table>\n",
       "<p>5 rows × 221 columns</p>\n",
       "</div>"
      ],
      "text/plain": [
       "   Year  Afghanistan  Albania  Algeria  Andorra   Angola  Anguilla  \\\n",
       "0  1960      0.41388   2.0225   6.1512      NaN  0.54895       NaN   \n",
       "1  1961      0.49080   2.2790   6.0559      NaN  0.45371       NaN   \n",
       "2  1962      0.68859   2.4622   5.6610      NaN  1.17910       NaN   \n",
       "3  1963      0.70674   2.0812   5.4192      NaN  1.14970       NaN   \n",
       "4  1964      0.83855   2.0152   5.6430      NaN  1.22290       NaN   \n",
       "\n",
       "   Antigua and Barbuda  Argentina  Armenia  ...  Uruguay  Uzbekistan  \\\n",
       "0             0.036640    48.7645   2.4936  ...   4.3145     47.8515   \n",
       "1             0.047632    51.1267   2.5714  ...   4.1168     49.3462   \n",
       "2             0.102590    53.6401   2.6987  ...   4.0069     51.7895   \n",
       "3             0.084272    50.0327   2.8942  ...   4.3148     55.5408   \n",
       "4             0.091600    55.6700   3.0780  ...   4.5527     59.0674   \n",
       "\n",
       "    Vanuatu  Venezuela  Vietnam  Wallis and Futuna Islands  Western Sahara  \\\n",
       "0       NaN    57.0168   7.4839                        NaN             NaN   \n",
       "1       NaN    51.8798   7.9783                        NaN             NaN   \n",
       "2  0.040304    54.0561   9.3377                        NaN             NaN   \n",
       "3  0.032976    56.1517   9.1104                        NaN             NaN   \n",
       "4  0.062288    56.5500  11.7878                        NaN             NaN   \n",
       "\n",
       "    Yemen  Zambia  Zimbabwe  \n",
       "0  3.6310  4.3552    5.9432  \n",
       "1  2.6637  3.7090    5.0613  \n",
       "2  3.8838  3.5827    4.8890  \n",
       "3  2.9165  3.4445    4.7004  \n",
       "4  3.6310  3.2750    4.4691  \n",
       "\n",
       "[5 rows x 221 columns]"
      ]
     },
     "execution_count": 19,
     "metadata": {},
     "output_type": "execute_result"
    }
   ],
   "source": [
    "emissions_mt.head()"
   ]
  },
  {
   "cell_type": "markdown",
   "metadata": {},
   "source": [
    "#### b.CO${}_2$ Emissions per country in kg(CO2) per GDP\n",
    "\n",
    "Carbon Intensity: Total CO2 emissions divided by GDP.\n",
    "GDP: Gross Domestic Product, measured in US dollars (USD) at Purchasing Power Parity rates.\n"
   ]
  },
  {
   "cell_type": "code",
   "execution_count": 20,
   "metadata": {},
   "outputs": [],
   "source": [
    "emissions_kg = pd.read_excel(\"data/emissions_kgco2.xlsx\")"
   ]
  },
  {
   "cell_type": "markdown",
   "metadata": {},
   "source": [
    "#### c.CO$_{2}$ Emissions in tonnes per person\n",
    "\n",
    "CO2 emissions per person are measured as the total CO2 produced by a country as a consequence of human activities and are divided by the population of that country."
   ]
  },
  {
   "cell_type": "code",
   "execution_count": 21,
   "metadata": {},
   "outputs": [],
   "source": [
    "emissions_pc = pd.read_excel(\"data/emissions_tco2.xlsx\")"
   ]
  },
  {
   "cell_type": "markdown",
   "metadata": {},
   "source": [
    "#### d. Land Use Emissions\n",
    "\n",
    "Carbon dioxide emissions from land use, land use change and forestry (primarily deforestation). Global data values have an uncertainly of ±2 GtCO2 reported as ±1 sigma (68% chance that the real value lies within the given interval). Regional data generally have uncertainty of about ± 50%. For more information see: Section 2.2, Global Carbon Budget 2018, Le Quéré et al. 2018.\n",
    "\n"
   ]
  },
  {
   "cell_type": "code",
   "execution_count": 22,
   "metadata": {},
   "outputs": [],
   "source": [
    "land_use = pd.read_excel(\"data/land_use_change.xlsx\")"
   ]
  },
  {
   "cell_type": "code",
   "execution_count": 23,
   "metadata": {},
   "outputs": [
    {
     "data": {
      "text/html": [
       "<div>\n",
       "<style scoped>\n",
       "    .dataframe tbody tr th:only-of-type {\n",
       "        vertical-align: middle;\n",
       "    }\n",
       "\n",
       "    .dataframe tbody tr th {\n",
       "        vertical-align: top;\n",
       "    }\n",
       "\n",
       "    .dataframe thead th {\n",
       "        text-align: right;\n",
       "    }\n",
       "</style>\n",
       "<table border=\"1\" class=\"dataframe\">\n",
       "  <thead>\n",
       "    <tr style=\"text-align: right;\">\n",
       "      <th></th>\n",
       "      <th>Year</th>\n",
       "      <th>Canada</th>\n",
       "      <th>Caribbean</th>\n",
       "      <th>Central Africa</th>\n",
       "      <th>Central America &amp; Mexico</th>\n",
       "      <th>China</th>\n",
       "      <th>East Africa</th>\n",
       "      <th>East Asia</th>\n",
       "      <th>Europe</th>\n",
       "      <th>Former Soviet Union</th>\n",
       "      <th>NonTropical S. America</th>\n",
       "      <th>North Africa &amp; Middle East</th>\n",
       "      <th>Oceania</th>\n",
       "      <th>South Asia</th>\n",
       "      <th>Southeast Asia</th>\n",
       "      <th>Southern Africa</th>\n",
       "      <th>Tropical S. America</th>\n",
       "      <th>USA</th>\n",
       "      <th>West Africa</th>\n",
       "    </tr>\n",
       "  </thead>\n",
       "  <tbody>\n",
       "    <tr>\n",
       "      <th>0</th>\n",
       "      <td>1960</td>\n",
       "      <td>111.509647</td>\n",
       "      <td>-7.328015</td>\n",
       "      <td>287.091622</td>\n",
       "      <td>139.974901</td>\n",
       "      <td>1301.468612</td>\n",
       "      <td>208.755839</td>\n",
       "      <td>205.477428</td>\n",
       "      <td>56.869953</td>\n",
       "      <td>832.475275</td>\n",
       "      <td>114.200491</td>\n",
       "      <td>11.554995</td>\n",
       "      <td>231.380288</td>\n",
       "      <td>100.093745</td>\n",
       "      <td>487.326822</td>\n",
       "      <td>158.061028</td>\n",
       "      <td>1350.743867</td>\n",
       "      <td>-98.927786</td>\n",
       "      <td>269.014303</td>\n",
       "    </tr>\n",
       "    <tr>\n",
       "      <th>1</th>\n",
       "      <td>1961</td>\n",
       "      <td>110.319466</td>\n",
       "      <td>-8.903065</td>\n",
       "      <td>295.720893</td>\n",
       "      <td>170.060460</td>\n",
       "      <td>1212.751133</td>\n",
       "      <td>202.073870</td>\n",
       "      <td>208.500407</td>\n",
       "      <td>56.354318</td>\n",
       "      <td>832.196722</td>\n",
       "      <td>141.607317</td>\n",
       "      <td>8.623399</td>\n",
       "      <td>228.735319</td>\n",
       "      <td>98.334347</td>\n",
       "      <td>483.340468</td>\n",
       "      <td>154.438371</td>\n",
       "      <td>1343.977488</td>\n",
       "      <td>-137.291397</td>\n",
       "      <td>263.487650</td>\n",
       "    </tr>\n",
       "    <tr>\n",
       "      <th>2</th>\n",
       "      <td>1962</td>\n",
       "      <td>146.988638</td>\n",
       "      <td>-8.059543</td>\n",
       "      <td>304.491459</td>\n",
       "      <td>153.948059</td>\n",
       "      <td>1139.185983</td>\n",
       "      <td>200.841851</td>\n",
       "      <td>159.365346</td>\n",
       "      <td>44.364428</td>\n",
       "      <td>830.399156</td>\n",
       "      <td>149.706273</td>\n",
       "      <td>3.793679</td>\n",
       "      <td>245.726318</td>\n",
       "      <td>96.744870</td>\n",
       "      <td>453.226283</td>\n",
       "      <td>167.320805</td>\n",
       "      <td>1334.509622</td>\n",
       "      <td>-124.227665</td>\n",
       "      <td>266.015546</td>\n",
       "    </tr>\n",
       "    <tr>\n",
       "      <th>3</th>\n",
       "      <td>1963</td>\n",
       "      <td>147.529229</td>\n",
       "      <td>-7.985091</td>\n",
       "      <td>313.286981</td>\n",
       "      <td>152.525934</td>\n",
       "      <td>1056.749709</td>\n",
       "      <td>203.421494</td>\n",
       "      <td>149.295233</td>\n",
       "      <td>40.563776</td>\n",
       "      <td>755.647495</td>\n",
       "      <td>154.647561</td>\n",
       "      <td>1.767472</td>\n",
       "      <td>250.266475</td>\n",
       "      <td>53.597414</td>\n",
       "      <td>442.252616</td>\n",
       "      <td>171.675627</td>\n",
       "      <td>1524.796920</td>\n",
       "      <td>-137.445170</td>\n",
       "      <td>270.049610</td>\n",
       "    </tr>\n",
       "    <tr>\n",
       "      <th>4</th>\n",
       "      <td>1964</td>\n",
       "      <td>148.487466</td>\n",
       "      <td>-8.399907</td>\n",
       "      <td>321.843219</td>\n",
       "      <td>160.449464</td>\n",
       "      <td>1046.165429</td>\n",
       "      <td>207.932291</td>\n",
       "      <td>147.606299</td>\n",
       "      <td>36.273179</td>\n",
       "      <td>752.062272</td>\n",
       "      <td>159.267357</td>\n",
       "      <td>1.937393</td>\n",
       "      <td>255.504299</td>\n",
       "      <td>40.956466</td>\n",
       "      <td>443.027353</td>\n",
       "      <td>177.216960</td>\n",
       "      <td>1604.577215</td>\n",
       "      <td>-154.726099</td>\n",
       "      <td>275.848210</td>\n",
       "    </tr>\n",
       "  </tbody>\n",
       "</table>\n",
       "</div>"
      ],
      "text/plain": [
       "   Year      Canada  Caribbean  Central Africa  Central America & Mexico  \\\n",
       "0  1960  111.509647  -7.328015      287.091622                139.974901   \n",
       "1  1961  110.319466  -8.903065      295.720893                170.060460   \n",
       "2  1962  146.988638  -8.059543      304.491459                153.948059   \n",
       "3  1963  147.529229  -7.985091      313.286981                152.525934   \n",
       "4  1964  148.487466  -8.399907      321.843219                160.449464   \n",
       "\n",
       "         China  East Africa   East Asia     Europe  Former Soviet Union  \\\n",
       "0  1301.468612   208.755839  205.477428  56.869953           832.475275   \n",
       "1  1212.751133   202.073870  208.500407  56.354318           832.196722   \n",
       "2  1139.185983   200.841851  159.365346  44.364428           830.399156   \n",
       "3  1056.749709   203.421494  149.295233  40.563776           755.647495   \n",
       "4  1046.165429   207.932291  147.606299  36.273179           752.062272   \n",
       "\n",
       "   NonTropical S. America  North Africa & Middle East     Oceania  South Asia  \\\n",
       "0              114.200491                   11.554995  231.380288  100.093745   \n",
       "1              141.607317                    8.623399  228.735319   98.334347   \n",
       "2              149.706273                    3.793679  245.726318   96.744870   \n",
       "3              154.647561                    1.767472  250.266475   53.597414   \n",
       "4              159.267357                    1.937393  255.504299   40.956466   \n",
       "\n",
       "   Southeast Asia  Southern Africa  Tropical S. America         USA  \\\n",
       "0      487.326822       158.061028          1350.743867  -98.927786   \n",
       "1      483.340468       154.438371          1343.977488 -137.291397   \n",
       "2      453.226283       167.320805          1334.509622 -124.227665   \n",
       "3      442.252616       171.675627          1524.796920 -137.445170   \n",
       "4      443.027353       177.216960          1604.577215 -154.726099   \n",
       "\n",
       "   West Africa  \n",
       "0   269.014303  \n",
       "1   263.487650  \n",
       "2   266.015546  \n",
       "3   270.049610  \n",
       "4   275.848210  "
      ]
     },
     "execution_count": 23,
     "metadata": {},
     "output_type": "execute_result"
    }
   ],
   "source": [
    "land_use.head()"
   ]
  },
  {
   "cell_type": "markdown",
   "metadata": {},
   "source": [
    "We are first interested in global emissions rather than emissions per country. Therefore we aggregate the information for each year in the three dataframes about CO${}_2$ emissions. Notice that we sum up all the emissions in million tones to have global values, while we take the mean of the values in ```emissions_kg``` cause the singular information is in kg/GDP and in ```emissions_pc```cause the singular information is in mt/per capita."
   ]
  },
  {
   "cell_type": "code",
   "execution_count": 24,
   "metadata": {},
   "outputs": [],
   "source": [
    "emissions_mt[\"mt_CO2_global\"]= emissions_mt.sum(axis = 1, skipna = True)\n",
    "emissions_kg[\"kg_CO2_global\"]= emissions_kg.mean(axis = 1, skipna = True)\n",
    "emissions_pc[\"pc_CO2_average\"]= emissions_pc.mean(axis = 1, skipna = True)\n",
    "\n",
    "# Filter dataframes with the relevant information\n",
    "aux_mt = emissions_mt[[\"Year\", \"mt_CO2_global\"]]\n",
    "aux_kg = emissions_kg[[\"Year\", \"kg_CO2_global\"]]\n",
    "aux_pc = emissions_pc[[\"Year\", \"pc_CO2_average\"]]"
   ]
  },
  {
   "cell_type": "markdown",
   "metadata": {},
   "source": [
    "Then we merge the three auxiliary dataframes defined above:"
   ]
  },
  {
   "cell_type": "code",
   "execution_count": 25,
   "metadata": {},
   "outputs": [],
   "source": [
    "emissions_combined = pd.merge(aux_mt, aux_kg, on= \"Year\")\n",
    "emissions_combined = pd.merge(emissions_combined, aux_pc, on =\"Year\")\n",
    "#Save the dataframe as csv\n",
    "emissions_combined.to_csv(\"data/emissions_CO2.csv\")"
   ]
  },
  {
   "cell_type": "markdown",
   "metadata": {},
   "source": [
    "Finally, we explore the first rows our merged dataset:"
   ]
  },
  {
   "cell_type": "code",
   "execution_count": 26,
   "metadata": {},
   "outputs": [
    {
     "data": {
      "text/html": [
       "<div>\n",
       "<style scoped>\n",
       "    .dataframe tbody tr th:only-of-type {\n",
       "        vertical-align: middle;\n",
       "    }\n",
       "\n",
       "    .dataframe tbody tr th {\n",
       "        vertical-align: top;\n",
       "    }\n",
       "\n",
       "    .dataframe thead th {\n",
       "        text-align: right;\n",
       "    }\n",
       "</style>\n",
       "<table border=\"1\" class=\"dataframe\">\n",
       "  <thead>\n",
       "    <tr style=\"text-align: right;\">\n",
       "      <th></th>\n",
       "      <th>Year</th>\n",
       "      <th>mt_CO2_global</th>\n",
       "      <th>kg_CO2_global</th>\n",
       "      <th>pc_CO2_average</th>\n",
       "    </tr>\n",
       "  </thead>\n",
       "  <tbody>\n",
       "    <tr>\n",
       "      <th>0</th>\n",
       "      <td>1960</td>\n",
       "      <td>11064.131248</td>\n",
       "      <td>10.594595</td>\n",
       "      <td>13.719937</td>\n",
       "    </tr>\n",
       "    <tr>\n",
       "      <th>1</th>\n",
       "      <td>1961</td>\n",
       "      <td>11061.885846</td>\n",
       "      <td>10.543011</td>\n",
       "      <td>13.804837</td>\n",
       "    </tr>\n",
       "    <tr>\n",
       "      <th>2</th>\n",
       "      <td>1962</td>\n",
       "      <td>11385.687956</td>\n",
       "      <td>10.436170</td>\n",
       "      <td>13.838856</td>\n",
       "    </tr>\n",
       "    <tr>\n",
       "      <th>3</th>\n",
       "      <td>1963</td>\n",
       "      <td>11923.171792</td>\n",
       "      <td>10.386243</td>\n",
       "      <td>14.295206</td>\n",
       "    </tr>\n",
       "    <tr>\n",
       "      <th>4</th>\n",
       "      <td>1964</td>\n",
       "      <td>12430.081615</td>\n",
       "      <td>10.229167</td>\n",
       "      <td>14.307196</td>\n",
       "    </tr>\n",
       "  </tbody>\n",
       "</table>\n",
       "</div>"
      ],
      "text/plain": [
       "   Year  mt_CO2_global  kg_CO2_global  pc_CO2_average\n",
       "0  1960   11064.131248      10.594595       13.719937\n",
       "1  1961   11061.885846      10.543011       13.804837\n",
       "2  1962   11385.687956      10.436170       13.838856\n",
       "3  1963   11923.171792      10.386243       14.295206\n",
       "4  1964   12430.081615      10.229167       14.307196"
      ]
     },
     "execution_count": 26,
     "metadata": {},
     "output_type": "execute_result"
    }
   ],
   "source": [
    "emissions_combined.head()"
   ]
  },
  {
   "cell_type": "markdown",
   "metadata": {},
   "source": [
    "In order to identify which countries are producing more CO${}_2$ emissions during some year in particular -which is important to go deeper in our project- we should modify someway the original dataset. To this end, we create a function:"
   ]
  },
  {
   "cell_type": "code",
   "execution_count": 27,
   "metadata": {},
   "outputs": [],
   "source": [
    "def get_data_years(data, n):\n",
    "    '''\n",
    "    data is a dataframe in {emissions_mt, emissions_kg, emissions_pg}\n",
    "    Returns a dataset with country and emissions_(units) as columns\n",
    "    for years >=n. \n",
    "    '''\n",
    "    data0 = data[data[\"Year\"] >= n].transpose().reset_index()\n",
    "    data0 = data0.drop(data0.index[0])\n",
    "    a = 2017-n+1\n",
    "    data0.columns= [\"Country\"]+[str(n+i) for i in range(a)]\n",
    "    return data0\n",
    "    "
   ]
  },
  {
   "cell_type": "markdown",
   "metadata": {},
   "source": [
    "For example, suppose we are interested in the top 10 countries with more CO${}_2$ emissions during 2015. We then run:"
   ]
  },
  {
   "cell_type": "code",
   "execution_count": 28,
   "metadata": {},
   "outputs": [
    {
     "data": {
      "text/html": [
       "<div>\n",
       "<style scoped>\n",
       "    .dataframe tbody tr th:only-of-type {\n",
       "        vertical-align: middle;\n",
       "    }\n",
       "\n",
       "    .dataframe tbody tr th {\n",
       "        vertical-align: top;\n",
       "    }\n",
       "\n",
       "    .dataframe thead th {\n",
       "        text-align: right;\n",
       "    }\n",
       "</style>\n",
       "<table border=\"1\" class=\"dataframe\">\n",
       "  <thead>\n",
       "    <tr style=\"text-align: right;\">\n",
       "      <th></th>\n",
       "      <th>Country</th>\n",
       "      <th>2015</th>\n",
       "    </tr>\n",
       "  </thead>\n",
       "  <tbody>\n",
       "    <tr>\n",
       "      <th>221</th>\n",
       "      <td>mt_CO2_global</td>\n",
       "      <td>36188.969071</td>\n",
       "    </tr>\n",
       "    <tr>\n",
       "      <th>42</th>\n",
       "      <td>China</td>\n",
       "      <td>9716.467800</td>\n",
       "    </tr>\n",
       "    <tr>\n",
       "      <th>210</th>\n",
       "      <td>United States of America</td>\n",
       "      <td>5420.804100</td>\n",
       "    </tr>\n",
       "    <tr>\n",
       "      <th>92</th>\n",
       "      <td>India</td>\n",
       "      <td>2276.407200</td>\n",
       "    </tr>\n",
       "    <tr>\n",
       "      <th>164</th>\n",
       "      <td>Russian Federation</td>\n",
       "      <td>1671.895100</td>\n",
       "    </tr>\n",
       "    <tr>\n",
       "      <th>100</th>\n",
       "      <td>Japan</td>\n",
       "      <td>1223.666500</td>\n",
       "    </tr>\n",
       "    <tr>\n",
       "      <th>76</th>\n",
       "      <td>Germany</td>\n",
       "      <td>797.078200</td>\n",
       "    </tr>\n",
       "    <tr>\n",
       "      <th>94</th>\n",
       "      <td>Iran</td>\n",
       "      <td>630.361800</td>\n",
       "    </tr>\n",
       "    <tr>\n",
       "      <th>173</th>\n",
       "      <td>Saudi Arabia</td>\n",
       "      <td>620.883000</td>\n",
       "    </tr>\n",
       "    <tr>\n",
       "      <th>184</th>\n",
       "      <td>South Korea</td>\n",
       "      <td>590.557500</td>\n",
       "    </tr>\n",
       "    <tr>\n",
       "      <th>36</th>\n",
       "      <td>Canada</td>\n",
       "      <td>565.576700</td>\n",
       "    </tr>\n",
       "  </tbody>\n",
       "</table>\n",
       "</div>"
      ],
      "text/plain": [
       "                      Country          2015\n",
       "221             mt_CO2_global  36188.969071\n",
       "42                      China   9716.467800\n",
       "210  United States of America   5420.804100\n",
       "92                      India   2276.407200\n",
       "164        Russian Federation   1671.895100\n",
       "100                     Japan   1223.666500\n",
       "76                    Germany    797.078200\n",
       "94                       Iran    630.361800\n",
       "173              Saudi Arabia    620.883000\n",
       "184               South Korea    590.557500\n",
       "36                     Canada    565.576700"
      ]
     },
     "execution_count": 28,
     "metadata": {},
     "output_type": "execute_result"
    }
   ],
   "source": [
    "(get_data_years(emissions_mt, 2015)[[\"Country\", \"2015\"]]\n",
    ".sort_values(\"2015\", ascending = False)\n",
    ".head(11)\n",
    ")"
   ]
  },
  {
   "cell_type": "markdown",
   "metadata": {},
   "source": [
    "## 2. Analyzing Events per category and year"
   ]
  },
  {
   "cell_type": "markdown",
   "metadata": {},
   "source": [
    "**1.** We first count the total number of events per category:"
   ]
  },
  {
   "cell_type": "code",
   "execution_count": 29,
   "metadata": {},
   "outputs": [
    {
     "data": {
      "text/plain": [
       "Severe Storms           1792\n",
       "Wildfires               1461\n",
       "Volcanoes                850\n",
       "Floods                   116\n",
       "Sea and Lake Ice          58\n",
       "Dust and Haze             17\n",
       "Water Color               17\n",
       "Earthquakes               15\n",
       "Temperature Extremes      14\n",
       "Drought                    7\n",
       "Manmade                    5\n",
       "Snow                       3\n",
       "Landslides                 2\n",
       "Name: categories, dtype: int64"
      ]
     },
     "execution_count": 29,
     "metadata": {},
     "output_type": "execute_result"
    }
   ],
   "source": [
    "df_ev.categories.value_counts()"
   ]
  },
  {
   "cell_type": "markdown",
   "metadata": {},
   "source": [
    "**2.** As the dataset about CO${}_2$ emissions contains data for years, we create a new column in our ```df_ev``` data set containing the year in which the event took place:"
   ]
  },
  {
   "cell_type": "code",
   "execution_count": 30,
   "metadata": {},
   "outputs": [],
   "source": [
    "#Extracting the year for each entry of the data set. We want the information year by year\n",
    "\n",
    "df_ev[\"year\"]= df_ev[\"date\"].dt.year"
   ]
  },
  {
   "cell_type": "markdown",
   "metadata": {},
   "source": [
    "Then we group the events per ```'year'``` and ```'categories'```:"
   ]
  },
  {
   "cell_type": "code",
   "execution_count": 31,
   "metadata": {},
   "outputs": [
    {
     "data": {
      "text/html": [
       "<div>\n",
       "<style scoped>\n",
       "    .dataframe tbody tr th:only-of-type {\n",
       "        vertical-align: middle;\n",
       "    }\n",
       "\n",
       "    .dataframe tbody tr th {\n",
       "        vertical-align: top;\n",
       "    }\n",
       "\n",
       "    .dataframe thead th {\n",
       "        text-align: right;\n",
       "    }\n",
       "</style>\n",
       "<table border=\"1\" class=\"dataframe\">\n",
       "  <thead>\n",
       "    <tr style=\"text-align: right;\">\n",
       "      <th></th>\n",
       "      <th></th>\n",
       "      <th>no_of_events</th>\n",
       "    </tr>\n",
       "    <tr>\n",
       "      <th>year</th>\n",
       "      <th>categories</th>\n",
       "      <th></th>\n",
       "    </tr>\n",
       "  </thead>\n",
       "  <tbody>\n",
       "    <tr>\n",
       "      <th>1980</th>\n",
       "      <th>Volcanoes</th>\n",
       "      <td>20</td>\n",
       "    </tr>\n",
       "    <tr>\n",
       "      <th>1981</th>\n",
       "      <th>Volcanoes</th>\n",
       "      <td>14</td>\n",
       "    </tr>\n",
       "    <tr>\n",
       "      <th>1982</th>\n",
       "      <th>Volcanoes</th>\n",
       "      <td>15</td>\n",
       "    </tr>\n",
       "    <tr>\n",
       "      <th>1983</th>\n",
       "      <th>Volcanoes</th>\n",
       "      <td>15</td>\n",
       "    </tr>\n",
       "    <tr>\n",
       "      <th>1984</th>\n",
       "      <th>Volcanoes</th>\n",
       "      <td>15</td>\n",
       "    </tr>\n",
       "  </tbody>\n",
       "</table>\n",
       "</div>"
      ],
      "text/plain": [
       "                 no_of_events\n",
       "year categories              \n",
       "1980 Volcanoes             20\n",
       "1981 Volcanoes             14\n",
       "1982 Volcanoes             15\n",
       "1983 Volcanoes             15\n",
       "1984 Volcanoes             15"
      ]
     },
     "execution_count": 31,
     "metadata": {},
     "output_type": "execute_result"
    }
   ],
   "source": [
    "events_per_year_cat = df_ev.groupby([\"year\", 'categories'])[[\"id\"]].count()\n",
    "events_per_year_cat.columns = [\"no_of_events\"]\n",
    "events_per_year_cat.head()"
   ]
  },
  {
   "cell_type": "markdown",
   "metadata": {},
   "source": [
    "And we also count the total natural events per year:"
   ]
  },
  {
   "cell_type": "code",
   "execution_count": 32,
   "metadata": {},
   "outputs": [],
   "source": [
    "events_year = (df_ev\n",
    "              .groupby([\"year\"])[[\"id\"]]\n",
    "              .count()\n",
    "              .reset_index())"
   ]
  },
  {
   "cell_type": "code",
   "execution_count": 33,
   "metadata": {},
   "outputs": [
    {
     "data": {
      "text/html": [
       "<div>\n",
       "<style scoped>\n",
       "    .dataframe tbody tr th:only-of-type {\n",
       "        vertical-align: middle;\n",
       "    }\n",
       "\n",
       "    .dataframe tbody tr th {\n",
       "        vertical-align: top;\n",
       "    }\n",
       "\n",
       "    .dataframe thead th {\n",
       "        text-align: right;\n",
       "    }\n",
       "</style>\n",
       "<table border=\"1\" class=\"dataframe\">\n",
       "  <thead>\n",
       "    <tr style=\"text-align: right;\">\n",
       "      <th></th>\n",
       "      <th>Year</th>\n",
       "      <th>Number_of_events</th>\n",
       "    </tr>\n",
       "  </thead>\n",
       "  <tbody>\n",
       "    <tr>\n",
       "      <th>0</th>\n",
       "      <td>1980</td>\n",
       "      <td>20</td>\n",
       "    </tr>\n",
       "    <tr>\n",
       "      <th>1</th>\n",
       "      <td>1981</td>\n",
       "      <td>14</td>\n",
       "    </tr>\n",
       "    <tr>\n",
       "      <th>2</th>\n",
       "      <td>1982</td>\n",
       "      <td>15</td>\n",
       "    </tr>\n",
       "    <tr>\n",
       "      <th>3</th>\n",
       "      <td>1983</td>\n",
       "      <td>15</td>\n",
       "    </tr>\n",
       "    <tr>\n",
       "      <th>4</th>\n",
       "      <td>1984</td>\n",
       "      <td>15</td>\n",
       "    </tr>\n",
       "  </tbody>\n",
       "</table>\n",
       "</div>"
      ],
      "text/plain": [
       "   Year  Number_of_events\n",
       "0  1980                20\n",
       "1  1981                14\n",
       "2  1982                15\n",
       "3  1983                15\n",
       "4  1984                15"
      ]
     },
     "execution_count": 33,
     "metadata": {},
     "output_type": "execute_result"
    }
   ],
   "source": [
    "#Renaming columns\n",
    "events_year.columns= [\"Year\", \"Number_of_events\"]\n",
    "events_year.head()"
   ]
  },
  {
   "cell_type": "markdown",
   "metadata": {},
   "source": [
    "### Is there any trend of the ocurrence of natural events along the years?"
   ]
  },
  {
   "cell_type": "markdown",
   "metadata": {},
   "source": [
    "We create a line plot of ```events_year```: "
   ]
  },
  {
   "cell_type": "code",
   "execution_count": 34,
   "metadata": {},
   "outputs": [
    {
     "data": {
      "image/png": "[encoded data removed]",
      "text/plain": [
       "<Figure size 432x288 with 1 Axes>"
      ]
     },
     "metadata": {},
     "output_type": "display_data"
    }
   ],
   "source": [
    "sns.set_style(\"darkgrid\")\n",
    "sns.lineplot(x=\"Year\", y=\"Number_of_events\", data=events_year, color=\"c\")\n",
    "plt.title(\"Natural events along the years\");"
   ]
  },
  {
   "cell_type": "markdown",
   "metadata": {},
   "source": [
    "We can see that since 21${}^{\\text{st}}$ century the number of natural events has been increasing. However, this probably is due to the increasing measurement technologies and observation stations. Thus, we filter  the information of events occurred after year 2000."
   ]
  },
  {
   "cell_type": "code",
   "execution_count": 35,
   "metadata": {},
   "outputs": [],
   "source": [
    "events_year2000_cat = (df_ev[df_ev[\"year\"] >= 2000]\n",
    "                       .groupby([\"year\", 'categories'])[[\"id\"]]\n",
    "                       .count())"
   ]
  },
  {
   "cell_type": "markdown",
   "metadata": {},
   "source": [
    "### How is the distribution of events by categories along the years?"
   ]
  },
  {
   "cell_type": "code",
   "execution_count": 36,
   "metadata": {},
   "outputs": [
    {
     "data": {
      "image/png": "[encoded data removed]",
      "text/plain": [
       "<Figure size 864x504 with 1 Axes>"
      ]
     },
     "metadata": {},
     "output_type": "display_data"
    }
   ],
   "source": [
    "(events_year2000_cat.unstack()\n",
    "                   .plot(title = \"Natural events per category\", figsize=(12,7))\n",
    "                   .legend(bbox_to_anchor=(1.04,1), loc=\"upper left\",frameon= False, title = \"Category\")\n",
    "                   .get_figure()\n",
    "                   .savefig('plots/fig_02.png'))"
   ]
  },
  {
   "cell_type": "markdown",
   "metadata": {},
   "source": [
    "Since 2014, the most frequent events are Wildfires. However, as we have many categories with similar frequency, in this plot we cannot see easily the behaviour of the less frequent categories along the years. Also, it is not correct to expect that the other categories with less frequencies have not occurred before $21^{\\text{st}}$ century. \n",
    "\n",
    "Therefore, to have better understanding we plot a heatmap to see the overall distribution of natural events along the years. First we group and aggregate the information in the next dataframe:"
   ]
  },
  {
   "cell_type": "code",
   "execution_count": 37,
   "metadata": {},
   "outputs": [],
   "source": [
    "by_cat = (df_ev[df_ev[\"year\"]>=2000]\n",
    "            .groupby(['categories', \"year\"])\n",
    "            .size()\n",
    "            .unstack()\n",
    "           )"
   ]
  },
  {
   "cell_type": "code",
   "execution_count": 38,
   "metadata": {},
   "outputs": [
    {
     "data": {
      "image/png": "[encoded data removed]",
      "text/plain": [
       "<Figure size 720x720 with 2 Axes>"
      ]
     },
     "metadata": {},
     "output_type": "display_data"
    }
   ],
   "source": [
    "plt.figure(figsize=(10,10))\n",
    "g = sns.heatmap(\n",
    "    by_cat, \n",
    "    square=True, # make cells square\n",
    "    cbar_kws={'fraction' : 0.01}, # shrink colour bar\n",
    "    cmap= \"YlOrBr\", # use orange/red colour map'YlOrBr'\n",
    "    linewidth=1 # space between cells\n",
    ")\n",
    "g.set_xticklabels(g.get_xticklabels(), rotation=45, horizontalalignment='right')\n",
    "plt.title(\"Frequency of natural events (2000- Nov.2019)\");"
   ]
  },
  {
   "cell_type": "code",
   "execution_count": 39,
   "metadata": {},
   "outputs": [],
   "source": [
    "#saving the plot\n",
    "g.get_figure().savefig(\"plots/heatmap.png\")"
   ]
  },
  {
   "cell_type": "markdown",
   "metadata": {},
   "source": [
    "#### Conclusion:\n",
    "\n",
    "From the plot above we see clearly how quickly the Wildfires have increased after 2000. Also we can see that Severe Storms, Droughts, Volcanoes, Floods and Earthquakes are the following most frequent natural events occurred in this century."
   ]
  },
  {
   "cell_type": "markdown",
   "metadata": {},
   "source": [
    "## 3. Pairing frequencies of CO${}_2$ global emissions with global counts of natural events"
   ]
  },
  {
   "cell_type": "markdown",
   "metadata": {},
   "source": [
    "#### Merging data about natural events and CO${}_2$ emissions"
   ]
  },
  {
   "cell_type": "markdown",
   "metadata": {},
   "source": [
    "We merge now the dataset ```events_year``` containing the aggregation of all natural events since 1980 with ```emissions_combined```:"
   ]
  },
  {
   "cell_type": "code",
   "execution_count": 40,
   "metadata": {},
   "outputs": [
    {
     "data": {
      "text/html": [
       "<div>\n",
       "<style scoped>\n",
       "    .dataframe tbody tr th:only-of-type {\n",
       "        vertical-align: middle;\n",
       "    }\n",
       "\n",
       "    .dataframe tbody tr th {\n",
       "        vertical-align: top;\n",
       "    }\n",
       "\n",
       "    .dataframe thead th {\n",
       "        text-align: right;\n",
       "    }\n",
       "</style>\n",
       "<table border=\"1\" class=\"dataframe\">\n",
       "  <thead>\n",
       "    <tr style=\"text-align: right;\">\n",
       "      <th></th>\n",
       "      <th>Year</th>\n",
       "      <th>mt_CO2_global</th>\n",
       "      <th>kg_CO2_global</th>\n",
       "      <th>pc_CO2_average</th>\n",
       "      <th>Number_of_events</th>\n",
       "    </tr>\n",
       "  </thead>\n",
       "  <tbody>\n",
       "    <tr>\n",
       "      <th>0</th>\n",
       "      <td>1980</td>\n",
       "      <td>20928.866204</td>\n",
       "      <td>10.291487</td>\n",
       "      <td>15.560998</td>\n",
       "      <td>20</td>\n",
       "    </tr>\n",
       "    <tr>\n",
       "      <th>1</th>\n",
       "      <td>1981</td>\n",
       "      <td>20439.839034</td>\n",
       "      <td>10.184425</td>\n",
       "      <td>14.956099</td>\n",
       "      <td>14</td>\n",
       "    </tr>\n",
       "    <tr>\n",
       "      <th>2</th>\n",
       "      <td>1982</td>\n",
       "      <td>20341.079622</td>\n",
       "      <td>10.193283</td>\n",
       "      <td>14.889520</td>\n",
       "      <td>15</td>\n",
       "    </tr>\n",
       "    <tr>\n",
       "      <th>3</th>\n",
       "      <td>1983</td>\n",
       "      <td>20530.671032</td>\n",
       "      <td>10.176635</td>\n",
       "      <td>14.484301</td>\n",
       "      <td>15</td>\n",
       "    </tr>\n",
       "    <tr>\n",
       "      <th>4</th>\n",
       "      <td>1984</td>\n",
       "      <td>21080.674356</td>\n",
       "      <td>10.206079</td>\n",
       "      <td>15.006519</td>\n",
       "      <td>15</td>\n",
       "    </tr>\n",
       "  </tbody>\n",
       "</table>\n",
       "</div>"
      ],
      "text/plain": [
       "   Year  mt_CO2_global  kg_CO2_global  pc_CO2_average  Number_of_events\n",
       "0  1980   20928.866204      10.291487       15.560998                20\n",
       "1  1981   20439.839034      10.184425       14.956099                14\n",
       "2  1982   20341.079622      10.193283       14.889520                15\n",
       "3  1983   20530.671032      10.176635       14.484301                15\n",
       "4  1984   21080.674356      10.206079       15.006519                15"
      ]
     },
     "execution_count": 40,
     "metadata": {},
     "output_type": "execute_result"
    }
   ],
   "source": [
    "emissions_events= pd.merge(emissions_combined, events_year, on = \"Year\")\n",
    "#Save the dataframe as csv\n",
    "emissions_events.to_csv(\"data\\emissions_events.csv\")\n",
    "emissions_events.head()"
   ]
  },
  {
   "cell_type": "markdown",
   "metadata": {},
   "source": [
    "### Emissions CO${}_2$ along the years\n",
    "\n",
    "We first explore the evolution of CO${}_2$ global emissions along the years:"
   ]
  },
  {
   "cell_type": "code",
   "execution_count": 41,
   "metadata": {},
   "outputs": [
    {
     "data": {
      "image/png": "[encoded data removed]",
      "text/plain": [
       "<Figure size 432x288 with 1 Axes>"
      ]
     },
     "metadata": {},
     "output_type": "display_data"
    }
   ],
   "source": [
    "sns.scatterplot(data= emissions_events, y= \"mt_CO2_global\", x = \"Year\", size=\"mt_CO2_global\");"
   ]
  },
  {
   "cell_type": "markdown",
   "metadata": {},
   "source": [
    "We see that, as in the case of occurrences of natural events, the amounts of CO${}_2$ are increasing along the years."
   ]
  },
  {
   "cell_type": "markdown",
   "metadata": {},
   "source": [
    "### Is there a correlation between the frequency of natural events and the amount of CO${}_2$ emissions?\n",
    "\n",
    "To answer this question first we do a scatterplot:"
   ]
  },
  {
   "cell_type": "code",
   "execution_count": 42,
   "metadata": {},
   "outputs": [
    {
     "data": {
      "image/png": "[encoded data removed]",
      "text/plain": [
       "<Figure size 432x288 with 1 Axes>"
      ]
     },
     "metadata": {},
     "output_type": "display_data"
    }
   ],
   "source": [
    "sns.scatterplot(x= \"mt_CO2_global\", y= \"Number_of_events\", data=emissions_events, size=\"mt_CO2_global\")\n",
    "plt.title(\"Amout of CO2(mt) and number of natural events\");"
   ]
  },
  {
   "cell_type": "markdown",
   "metadata": {},
   "source": [
    "The plot above looks very similar to our first plot showing the evolution of occurrences of natural events along the years. In fact, we can see the behaviour of the three variables in the plot below:"
   ]
  },
  {
   "cell_type": "code",
   "execution_count": 43,
   "metadata": {},
   "outputs": [
    {
     "data": {
      "image/png": "[encoded data removed]",
      "text/plain": [
       "<Figure size 432x288 with 1 Axes>"
      ]
     },
     "metadata": {},
     "output_type": "display_data"
    }
   ],
   "source": [
    "sns.scatterplot(data= emissions_events, y= \"Number_of_events\", x = \"Year\", size=\"mt_CO2_global\")\n",
    "plt.title(\"Number of natural events along the years\");"
   ]
  },
  {
   "cell_type": "markdown",
   "metadata": {},
   "source": [
    "#### Conclusion:\n",
    "\n",
    "We see that definitely there is a correlation between global amounts of CO${}_2$ (mt) and the occurrency of natural events. However this correlation is not linear but a functional relation near to a step function."
   ]
  },
  {
   "cell_type": "markdown",
   "metadata": {},
   "source": [
    " ### Which are the 10 countries with most CO${}_2$ emissions (mt) during 2017? What is the behaviour of CO$_2$ emissions per capita for these countries?"
   ]
  },
  {
   "cell_type": "markdown",
   "metadata": {},
   "source": [
    "First we gather the data about CO${}_2$ emissions during 2017 using the function ```get_data_years```:"
   ]
  },
  {
   "cell_type": "code",
   "execution_count": 44,
   "metadata": {},
   "outputs": [],
   "source": [
    "#Applying clean_data to each emissions_(unit) dataset\n",
    "dfList= [get_data_years(df, 2017) for df in [emissions_mt, emissions_kg, emissions_pc]]\n",
    "\n",
    "from functools import reduce\n",
    "\n",
    "# Using reduce to merge the three datasets at once\n",
    "data_2017_country = reduce(lambda x, y: pd.merge(x, y, on = 'Country'), dfList)\n",
    "\n",
    "#Rename the columns\n",
    "data_2017_country.columns= [\"Country\", \"emissions_mt\", \"emissions_kg/gdp\", \"emissions_pc\"]"
   ]
  },
  {
   "cell_type": "code",
   "execution_count": 45,
   "metadata": {},
   "outputs": [
    {
     "data": {
      "text/html": [
       "<div>\n",
       "<style scoped>\n",
       "    .dataframe tbody tr th:only-of-type {\n",
       "        vertical-align: middle;\n",
       "    }\n",
       "\n",
       "    .dataframe tbody tr th {\n",
       "        vertical-align: top;\n",
       "    }\n",
       "\n",
       "    .dataframe thead th {\n",
       "        text-align: right;\n",
       "    }\n",
       "</style>\n",
       "<table border=\"1\" class=\"dataframe\">\n",
       "  <thead>\n",
       "    <tr style=\"text-align: right;\">\n",
       "      <th></th>\n",
       "      <th>Country</th>\n",
       "      <th>emissions_mt</th>\n",
       "      <th>emissions_kg/gdp</th>\n",
       "      <th>emissions_pc</th>\n",
       "    </tr>\n",
       "  </thead>\n",
       "  <tbody>\n",
       "    <tr>\n",
       "      <th>41</th>\n",
       "      <td>China</td>\n",
       "      <td>9838.7540</td>\n",
       "      <td>0.476581</td>\n",
       "      <td>6.980229</td>\n",
       "    </tr>\n",
       "    <tr>\n",
       "      <th>209</th>\n",
       "      <td>United States of America</td>\n",
       "      <td>5269.5295</td>\n",
       "      <td>0.305913</td>\n",
       "      <td>16.240949</td>\n",
       "    </tr>\n",
       "    <tr>\n",
       "      <th>91</th>\n",
       "      <td>India</td>\n",
       "      <td>2466.7654</td>\n",
       "      <td>0.294271</td>\n",
       "      <td>1.841997</td>\n",
       "    </tr>\n",
       "    <tr>\n",
       "      <th>163</th>\n",
       "      <td>Russian Federation</td>\n",
       "      <td>1692.7948</td>\n",
       "      <td>0.537713</td>\n",
       "      <td>11.756356</td>\n",
       "    </tr>\n",
       "    <tr>\n",
       "      <th>99</th>\n",
       "      <td>Japan</td>\n",
       "      <td>1205.0612</td>\n",
       "      <td>0.261871</td>\n",
       "      <td>9.452613</td>\n",
       "    </tr>\n",
       "  </tbody>\n",
       "</table>\n",
       "</div>"
      ],
      "text/plain": [
       "                      Country  emissions_mt  emissions_kg/gdp  emissions_pc\n",
       "41                      China     9838.7540          0.476581      6.980229\n",
       "209  United States of America     5269.5295          0.305913     16.240949\n",
       "91                      India     2466.7654          0.294271      1.841997\n",
       "163        Russian Federation     1692.7948          0.537713     11.756356\n",
       "99                      Japan     1205.0612          0.261871      9.452613"
      ]
     },
     "execution_count": 45,
     "metadata": {},
     "output_type": "execute_result"
    }
   ],
   "source": [
    "#Sorting the dataframe by ```emissions_mt``` in descending order:\n",
    "data_2017_country= data_2017_country.sort_values(\"emissions_mt\", ascending= False)\n",
    "\n",
    "#saving as .csv file\n",
    "data_2017_country.to_csv(\"data\\emissions_CO2_2017.csv\")\n",
    "\n",
    "data_2017_country.head()"
   ]
  },
  {
   "cell_type": "markdown",
   "metadata": {},
   "source": [
    "We will describe now the three quantitative variables along 2017:"
   ]
  },
  {
   "cell_type": "code",
   "execution_count": 46,
   "metadata": {},
   "outputs": [
    {
     "data": {
      "text/html": [
       "<div>\n",
       "<style scoped>\n",
       "    .dataframe tbody tr th:only-of-type {\n",
       "        vertical-align: middle;\n",
       "    }\n",
       "\n",
       "    .dataframe tbody tr th {\n",
       "        vertical-align: top;\n",
       "    }\n",
       "\n",
       "    .dataframe thead th {\n",
       "        text-align: right;\n",
       "    }\n",
       "</style>\n",
       "<table border=\"1\" class=\"dataframe\">\n",
       "  <thead>\n",
       "    <tr style=\"text-align: right;\">\n",
       "      <th></th>\n",
       "      <th>emissions_mt</th>\n",
       "      <th>emissions_kg/gdp</th>\n",
       "      <th>emissions_pc</th>\n",
       "    </tr>\n",
       "  </thead>\n",
       "  <tbody>\n",
       "    <tr>\n",
       "      <th>count</th>\n",
       "      <td>212.000000</td>\n",
       "      <td>212.000000</td>\n",
       "      <td>212.000000</td>\n",
       "    </tr>\n",
       "    <tr>\n",
       "      <th>mean</th>\n",
       "      <td>163.870270</td>\n",
       "      <td>0.171206</td>\n",
       "      <td>5.140073</td>\n",
       "    </tr>\n",
       "    <tr>\n",
       "      <th>std</th>\n",
       "      <td>797.721388</td>\n",
       "      <td>0.185137</td>\n",
       "      <td>6.584466</td>\n",
       "    </tr>\n",
       "    <tr>\n",
       "      <th>min</th>\n",
       "      <td>0.011696</td>\n",
       "      <td>0.000000</td>\n",
       "      <td>0.048705</td>\n",
       "    </tr>\n",
       "    <tr>\n",
       "      <th>25%</th>\n",
       "      <td>1.361725</td>\n",
       "      <td>0.000000</td>\n",
       "      <td>0.868869</td>\n",
       "    </tr>\n",
       "    <tr>\n",
       "      <th>50%</th>\n",
       "      <td>9.688750</td>\n",
       "      <td>0.139946</td>\n",
       "      <td>2.844043</td>\n",
       "    </tr>\n",
       "    <tr>\n",
       "      <th>75%</th>\n",
       "      <td>63.235250</td>\n",
       "      <td>0.260384</td>\n",
       "      <td>6.839280</td>\n",
       "    </tr>\n",
       "    <tr>\n",
       "      <th>max</th>\n",
       "      <td>9838.754000</td>\n",
       "      <td>1.113397</td>\n",
       "      <td>49.182616</td>\n",
       "    </tr>\n",
       "  </tbody>\n",
       "</table>\n",
       "</div>"
      ],
      "text/plain": [
       "       emissions_mt  emissions_kg/gdp  emissions_pc\n",
       "count    212.000000        212.000000    212.000000\n",
       "mean     163.870270          0.171206      5.140073\n",
       "std      797.721388          0.185137      6.584466\n",
       "min        0.011696          0.000000      0.048705\n",
       "25%        1.361725          0.000000      0.868869\n",
       "50%        9.688750          0.139946      2.844043\n",
       "75%       63.235250          0.260384      6.839280\n",
       "max     9838.754000          1.113397     49.182616"
      ]
     },
     "execution_count": 46,
     "metadata": {},
     "output_type": "execute_result"
    }
   ],
   "source": [
    "data_2017_country.describe()"
   ]
  },
  {
   "cell_type": "markdown",
   "metadata": {},
   "source": [
    "Now we visualize the data in an scatterplot to see what is the behaviour between the two variables ```'emissions_pc'``` and ```'emissions_mt'``` for the 10 countries with more CO$_2$ emissions during 2017:"
   ]
  },
  {
   "cell_type": "code",
   "execution_count": 47,
   "metadata": {},
   "outputs": [
    {
     "data": {
      "image/png": "[encoded data removed]",
      "text/plain": [
       "<Figure size 432x288 with 1 Axes>"
      ]
     },
     "metadata": {},
     "output_type": "display_data"
    }
   ],
   "source": [
    "(sns.scatterplot(data= data_2017_country.head(10), y= \"emissions_pc\", x = \"emissions_mt\", hue= \"Country\", size=\"emissions_mt\")\n",
    "    .legend(bbox_to_anchor=(1.04,1), loc=\"upper left\",frameon= False))\n",
    "plt.title(\"Territorial CO2 emissions per capita and total emissions(mt)\");"
   ]
  },
  {
   "cell_type": "markdown",
   "metadata": {},
   "source": [
    "**Conclusion:** Here we see that India, have a relatively small ratio concerning CO2 mt/ CO2 p.c. emissions, while China and US show high emissions per capita of CO2 and high territorial emissions in million tons. So, between the worst performing countries in terms of CO$_2$ emissions, China and US reflect the worst per-capita indicators."
   ]
  },
  {
   "cell_type": "markdown",
   "metadata": {},
   "source": [
    "## 4. Further questions and improvements"
   ]
  },
  {
   "cell_type": "markdown",
   "metadata": {},
   "source": [
    "#### Analysis considering consumption emissions\n",
    "\n",
    "In this analysis, we use CO$_2$ territorial emission data. However there is also data about **consumption CO$_2$ emissions**, i.e. carbon dioxide emissions occurring anywhere in the world attributed to the country in which goods and services are consumed.\n",
    "\n",
    "1. How are related the CO2 (consumption) emissions with the occurrence of natural events per Country?\n",
    "\n",
    "2. Do our findings change if we consider CO2 consumption emissions instead of territorial ones?\n",
    "\n",
    "#### Analysis of natural events and CO$_2$ emissions per regions\n",
    "\n",
    "The geographical location of the natural events in our dataset is given in terms of Geojson coordinates which did not allow us to get easily the stats of natural events for each country along the years. This will be highly desirable in order to pair these values with the CO$_2$ emissions and to answer the next question:\n",
    "\n",
    "3. Is there any chance of predict the risk of having natural events from CO2 measurements?\n",
    "\n",
    "4. How was the occurrence of natural events for the countries producing the majority of CO$_2$ emissions in the last 10 years?\n",
    "\n",
    "5. How is the distribution of natural events between regions in the planet? which regions have more incidence of events? Have those regions countries with CO$_2$ emissions significatively above average?"
   ]
  }
 ],
 "metadata": {
  "kernelspec": {
   "display_name": "Python 3",
   "language": "python",
   "name": "python3"
  },
  "language_info": {
   "codemirror_mode": {
    "name": "ipython",
    "version": 3
   },
   "file_extension": ".py",
   "mimetype": "text/x-python",
   "name": "python",
   "nbconvert_exporter": "python",
   "pygments_lexer": "ipython3",
   "version": "3.7.3"
  }
 },
 "nbformat": 4,
 "nbformat_minor": 4
}
